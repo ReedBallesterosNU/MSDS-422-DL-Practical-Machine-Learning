{
 "cells": [
  {
   "cell_type": "markdown",
   "id": "8c535867",
   "metadata": {},
   "source": [
    "# Module 9 Assignment 1: Natural Language Processing with Disaster Tweets"
   ]
  },
  {
   "cell_type": "markdown",
   "id": "c8ecd6c1",
   "metadata": {},
   "source": [
    "**Reed Ballesteros**\n",
    "\n",
    "**MSDS-422**\n",
    "\n",
    "**5/29/2022**\n",
    "\n",
    "**Instructor: Prof. Noah Gift**"
   ]
  },
  {
   "cell_type": "markdown",
   "id": "f08766e0",
   "metadata": {},
   "source": [
    "## Natural Language Processing with Disaster Tweets\n",
    "https://www.kaggle.com/competitions/nlp-getting-started/overview\n",
    "\n",
    "### Background Materials\n",
    "Natural language processing is an obvious area for the use of RNN, as the sequence is more important than the individual words.\n",
    "\n",
    "### Management/Research Question\n",
    "In layman’s terms, what is the management/research question of interest, and why would anyone care?  \n",
    "\n",
    "### Requirements\n",
    "- Conduct your analysis using a cross-validation design.\n",
    "- Conduct EDA.\n",
    "- Build at least three RNN models based on hyperparameter tuning.\n",
    "- Evaluate goodness of fit metrics.\n",
    "- Once you have your best-performing models, classify the test data and submit it to Kaggle. Provide your Kaggle.com user name - and screen snapshots of your scores.\n",
    "- Discuss your model’s performance.\n",
    "\n",
    "## Python Programming\n",
    "All programming will be done in Python."
   ]
  },
  {
   "cell_type": "markdown",
   "id": "c2e3bb16",
   "metadata": {},
   "source": [
    "**Libraries to be loaded:**"
   ]
  },
  {
   "cell_type": "code",
   "execution_count": 112,
   "id": "4cdac348",
   "metadata": {},
   "outputs": [],
   "source": [
    "import re\n",
    "import string\n",
    "import numpy as np \n",
    "import random\n",
    "import pandas as pd \n",
    "import matplotlib.pyplot as plt\n",
    "import seaborn as sns\n",
    "%matplotlib inline\n",
    "from plotly import graph_objs as go\n",
    "import plotly.express as px\n",
    "import plotly.figure_factory as ff\n",
    "from collections import Counter\n",
    "\n",
    "from PIL import Image\n",
    "from wordcloud import WordCloud, STOPWORDS, ImageColorGenerator\n",
    "\n",
    "import nltk\n",
    "from nltk.corpus import stopwords\n",
    "from nltk.tokenize import word_tokenize\n",
    "\n",
    "from tqdm import tqdm\n",
    "import os\n",
    "import nltk\n",
    "import spacy\n",
    "import random\n",
    "from spacy.util import compounding\n",
    "from spacy.util import minibatch\n",
    "\n",
    "from collections import defaultdict\n",
    "from collections import Counter\n",
    "\n",
    "import tensorflow\n",
    "from tensorflow.keras.models import Sequential\n",
    "from tensorflow.keras.initializers import Constant\n",
    "from tensorflow.keras.layers import (LSTM, \n",
    "                          Embedding, \n",
    "                          BatchNormalization,\n",
    "                          Dense, \n",
    "                          TimeDistributed, \n",
    "                          Dropout, \n",
    "                          Bidirectional,\n",
    "                          Flatten, \n",
    "                          GlobalMaxPool1D,\n",
    "                          Input)\n",
    "from tensorflow.keras.preprocessing.text import Tokenizer\n",
    "from tensorflow.keras.preprocessing.sequence import pad_sequences\n",
    "from tensorflow.keras.layers import Embedding\n",
    "from tensorflow.keras.callbacks import ModelCheckpoint, ReduceLROnPlateau\n",
    "from tensorflow.keras.optimizers import Adam\n",
    "from tensorflow.keras.models import load_model\n",
    "from tensorflow.keras.models import Model\n",
    "\n",
    "from sklearn.metrics import (\n",
    "    precision_score, \n",
    "    recall_score, \n",
    "    f1_score, \n",
    "    classification_report,\n",
    "    accuracy_score,\n",
    "    confusion_matrix\n",
    ")\n",
    "\n",
    "import transformers\n",
    "from tqdm.notebook import tqdm\n",
    "from transformers import BertTokenizer\n",
    "from transformers import TFBertModel"
   ]
  },
  {
   "cell_type": "code",
   "execution_count": 3,
   "id": "3db829c4",
   "metadata": {},
   "outputs": [],
   "source": [
    "import torch\n",
    "from tensorflow.python.client import device_lib\n",
    "from tensorflow.config import list_physical_devices\n",
    "from torch import cuda\n",
    "import random"
   ]
  },
  {
   "cell_type": "markdown",
   "id": "ff5fac8d",
   "metadata": {},
   "source": [
    "## INGEST"
   ]
  },
  {
   "cell_type": "markdown",
   "id": "b86c76dc",
   "metadata": {},
   "source": [
    "**Given the kind of ML involved let's see if our GPU is available for use.**"
   ]
  },
  {
   "cell_type": "code",
   "execution_count": 4,
   "id": "bed1fbc3",
   "metadata": {},
   "outputs": [
    {
     "data": {
      "text/plain": [
       "[PhysicalDevice(name='/physical_device:GPU:0', device_type='GPU')]"
      ]
     },
     "execution_count": 4,
     "metadata": {},
     "output_type": "execute_result"
    }
   ],
   "source": [
    "list_physical_devices('GPU')"
   ]
  },
  {
   "cell_type": "code",
   "execution_count": 5,
   "id": "592d3c3b",
   "metadata": {},
   "outputs": [
    {
     "name": "stdout",
     "output_type": "stream",
     "text": [
      "[name: \"/device:CPU:0\"\n",
      "device_type: \"CPU\"\n",
      "memory_limit: 268435456\n",
      "locality {\n",
      "}\n",
      "incarnation: 7290584546501683875\n",
      "xla_global_id: -1\n",
      ", name: \"/device:GPU:0\"\n",
      "device_type: \"GPU\"\n",
      "memory_limit: 5769199616\n",
      "locality {\n",
      "  bus_id: 1\n",
      "  links {\n",
      "  }\n",
      "}\n",
      "incarnation: 16722029091353572461\n",
      "physical_device_desc: \"device: 0, name: NVIDIA GeForce RTX 3060 Ti, pci bus id: 0000:01:00.0, compute capability: 8.6\"\n",
      "xla_global_id: 416903419\n",
      "]\n"
     ]
    }
   ],
   "source": [
    "print(device_lib.list_local_devices())"
   ]
  },
  {
   "cell_type": "code",
   "execution_count": null,
   "id": "2cb0c431",
   "metadata": {},
   "outputs": [],
   "source": []
  },
  {
   "cell_type": "code",
   "execution_count": 108,
   "id": "fd927c46",
   "metadata": {},
   "outputs": [],
   "source": [
    "train_df = pd.read_csv(\"train.csv\", encoding=\"latin-1\")\n",
    "test_df = pd.read_csv(\"test.csv\", encoding=\"latin-1\")\n",
    "\n",
    "train_df = train_df.dropna(how=\"any\", axis=1)"
   ]
  },
  {
   "cell_type": "code",
   "execution_count": 109,
   "id": "9480d918",
   "metadata": {},
   "outputs": [
    {
     "data": {
      "text/html": [
       "<div>\n",
       "<style scoped>\n",
       "    .dataframe tbody tr th:only-of-type {\n",
       "        vertical-align: middle;\n",
       "    }\n",
       "\n",
       "    .dataframe tbody tr th {\n",
       "        vertical-align: top;\n",
       "    }\n",
       "\n",
       "    .dataframe thead th {\n",
       "        text-align: right;\n",
       "    }\n",
       "</style>\n",
       "<table border=\"1\" class=\"dataframe\">\n",
       "  <thead>\n",
       "    <tr style=\"text-align: right;\">\n",
       "      <th></th>\n",
       "      <th>id</th>\n",
       "      <th>text</th>\n",
       "      <th>target</th>\n",
       "    </tr>\n",
       "  </thead>\n",
       "  <tbody>\n",
       "    <tr>\n",
       "      <th>0</th>\n",
       "      <td>1</td>\n",
       "      <td>Our Deeds are the Reason of this #earthquake M...</td>\n",
       "      <td>1</td>\n",
       "    </tr>\n",
       "    <tr>\n",
       "      <th>1</th>\n",
       "      <td>4</td>\n",
       "      <td>Forest fire near La Ronge Sask. Canada</td>\n",
       "      <td>1</td>\n",
       "    </tr>\n",
       "    <tr>\n",
       "      <th>2</th>\n",
       "      <td>5</td>\n",
       "      <td>All residents asked to 'shelter in place' are ...</td>\n",
       "      <td>1</td>\n",
       "    </tr>\n",
       "    <tr>\n",
       "      <th>3</th>\n",
       "      <td>6</td>\n",
       "      <td>13,000 people receive #wildfires evacuation or...</td>\n",
       "      <td>1</td>\n",
       "    </tr>\n",
       "    <tr>\n",
       "      <th>4</th>\n",
       "      <td>7</td>\n",
       "      <td>Just got sent this photo from Ruby #Alaska as ...</td>\n",
       "      <td>1</td>\n",
       "    </tr>\n",
       "  </tbody>\n",
       "</table>\n",
       "</div>"
      ],
      "text/plain": [
       "   id                                               text  target\n",
       "0   1  Our Deeds are the Reason of this #earthquake M...       1\n",
       "1   4             Forest fire near La Ronge Sask. Canada       1\n",
       "2   5  All residents asked to 'shelter in place' are ...       1\n",
       "3   6  13,000 people receive #wildfires evacuation or...       1\n",
       "4   7  Just got sent this photo from Ruby #Alaska as ...       1"
      ]
     },
     "execution_count": 109,
     "metadata": {},
     "output_type": "execute_result"
    }
   ],
   "source": [
    "train_df.head()"
   ]
  },
  {
   "cell_type": "code",
   "execution_count": 110,
   "id": "32237a7e",
   "metadata": {},
   "outputs": [
    {
     "data": {
      "text/html": [
       "<div>\n",
       "<style scoped>\n",
       "    .dataframe tbody tr th:only-of-type {\n",
       "        vertical-align: middle;\n",
       "    }\n",
       "\n",
       "    .dataframe tbody tr th {\n",
       "        vertical-align: top;\n",
       "    }\n",
       "\n",
       "    .dataframe thead th {\n",
       "        text-align: right;\n",
       "    }\n",
       "</style>\n",
       "<table border=\"1\" class=\"dataframe\">\n",
       "  <thead>\n",
       "    <tr style=\"text-align: right;\">\n",
       "      <th></th>\n",
       "      <th>id</th>\n",
       "      <th>keyword</th>\n",
       "      <th>location</th>\n",
       "      <th>text</th>\n",
       "    </tr>\n",
       "  </thead>\n",
       "  <tbody>\n",
       "    <tr>\n",
       "      <th>0</th>\n",
       "      <td>0</td>\n",
       "      <td>NaN</td>\n",
       "      <td>NaN</td>\n",
       "      <td>Just happened a terrible car crash</td>\n",
       "    </tr>\n",
       "    <tr>\n",
       "      <th>1</th>\n",
       "      <td>2</td>\n",
       "      <td>NaN</td>\n",
       "      <td>NaN</td>\n",
       "      <td>Heard about #earthquake is different cities, s...</td>\n",
       "    </tr>\n",
       "    <tr>\n",
       "      <th>2</th>\n",
       "      <td>3</td>\n",
       "      <td>NaN</td>\n",
       "      <td>NaN</td>\n",
       "      <td>there is a forest fire at spot pond, geese are...</td>\n",
       "    </tr>\n",
       "    <tr>\n",
       "      <th>3</th>\n",
       "      <td>9</td>\n",
       "      <td>NaN</td>\n",
       "      <td>NaN</td>\n",
       "      <td>Apocalypse lighting. #Spokane #wildfires</td>\n",
       "    </tr>\n",
       "    <tr>\n",
       "      <th>4</th>\n",
       "      <td>11</td>\n",
       "      <td>NaN</td>\n",
       "      <td>NaN</td>\n",
       "      <td>Typhoon Soudelor kills 28 in China and Taiwan</td>\n",
       "    </tr>\n",
       "  </tbody>\n",
       "</table>\n",
       "</div>"
      ],
      "text/plain": [
       "   id keyword location                                               text\n",
       "0   0     NaN      NaN                 Just happened a terrible car crash\n",
       "1   2     NaN      NaN  Heard about #earthquake is different cities, s...\n",
       "2   3     NaN      NaN  there is a forest fire at spot pond, geese are...\n",
       "3   9     NaN      NaN           Apocalypse lighting. #Spokane #wildfires\n",
       "4  11     NaN      NaN      Typhoon Soudelor kills 28 in China and Taiwan"
      ]
     },
     "execution_count": 110,
     "metadata": {},
     "output_type": "execute_result"
    }
   ],
   "source": [
    "test_df.head()"
   ]
  },
  {
   "cell_type": "markdown",
   "id": "3ba1aa4d",
   "metadata": {},
   "source": [
    "## EDA"
   ]
  },
  {
   "cell_type": "code",
   "execution_count": 16,
   "id": "e5873abf",
   "metadata": {},
   "outputs": [
    {
     "data": {
      "text/plain": [
       "array([4342, 3271], dtype=int64)"
      ]
     },
     "execution_count": 16,
     "metadata": {},
     "output_type": "execute_result"
    }
   ],
   "source": [
    "balance_counts = train_df.groupby('target')['target'].agg('count').values\n",
    "balance_counts"
   ]
  },
  {
   "cell_type": "code",
   "execution_count": 107,
   "id": "6504a816",
   "metadata": {},
   "outputs": [
    {
     "data": {
      "text/plain": [
       "Text(0.5, 1.0, 'Tweet Dataset distribution by target')"
      ]
     },
     "execution_count": 107,
     "metadata": {},
     "output_type": "execute_result"
    },
    {
     "data": {
      "image/png": "[encoded data removed]",
      "text/plain": [
       "<Figure size 432x288 with 1 Axes>"
      ]
     },
     "metadata": {
      "needs_background": "light"
     },
     "output_type": "display_data"
    }
   ],
   "source": [
    "x_plt=train_df.target.value_counts()\n",
    "sns.barplot(x=x_plt.index,y=x_plt)\n",
    "plt.gca().set_ylabel('Count')\n",
    "plt.gca().set_title('Tweet Dataset distribution by target')"
   ]
  },
  {
   "cell_type": "markdown",
   "id": "4d08ed52",
   "metadata": {},
   "source": [
    "## MODELLING"
   ]
  },
  {
   "cell_type": "markdown",
   "id": "01006ab1",
   "metadata": {},
   "source": [
    "### Data Preparation/Cleaning: GLoVe-LSTM"
   ]
  },
  {
   "cell_type": "code",
   "execution_count": null,
   "id": "da9b7966",
   "metadata": {},
   "outputs": [],
   "source": [
    "def remove_url(text):\n",
    "    url = re.compile(r'https?://\\S+|www\\.\\S+')\n",
    "    return url.sub(r'', text)\n",
    "\n",
    "\n",
    "def remove_emoji(text):\n",
    "    emoji_pattern = re.compile(\n",
    "        '['\n",
    "        u'\\U0001F600-\\U0001F64F'  # emoticons\n",
    "        u'\\U0001F300-\\U0001F5FF'  # symbols & pictographs\n",
    "        u'\\U0001F680-\\U0001F6FF'  # transport & map symbols\n",
    "        u'\\U0001F1E0-\\U0001F1FF'  # flags (iOS)\n",
    "        u'\\U00002702-\\U000027B0'\n",
    "        u'\\U000024C2-\\U0001F251'\n",
    "        ']+',\n",
    "        flags=re.UNICODE)\n",
    "    return emoji_pattern.sub(r'', text)\n",
    "\n",
    "\n",
    "def remove_html(text):\n",
    "    html = re.compile(r'<.*?>|&([a-z0-9]+|#[0-9]{1,6}|#x[0-9a-f]{1,6});')\n",
    "    return re.sub(html, '', text)\n",
    "\n",
    "# https://www.kaggle.com/tanulsingh077\n",
    "def clean_text(text):\n",
    "    '''Make text lowercase, remove text in square brackets,remove links,remove punctuation\n",
    "    and remove words containing numbers.'''\n",
    "    text = str(text).lower()\n",
    "    text = re.sub('\\[.*?\\]', '', text)\n",
    "    text = re.sub(\n",
    "        'http[s]?://(?:[a-zA-Z]|[0-9]|[$-_@.&+]|[!*\\(\\),]|(?:%[0-9a-fA-F][0-9a-fA-F]))+', \n",
    "        '', \n",
    "        text\n",
    "    )\n",
    "    text = re.sub('https?://\\S+|www\\.\\S+', '', text)\n",
    "    text = re.sub('<.*?>+', '', text)\n",
    "    text = re.sub('[%s]' % re.escape(string.punctuation), '', text)\n",
    "    text = re.sub('\\n', '', text)\n",
    "    text = re.sub('\\w*\\d\\w*', '', text)\n",
    "    \n",
    "    text = remove_url(text)\n",
    "    text = remove_emoji(text)\n",
    "    text = remove_html(text)\n",
    "    \n",
    "    return text\n",
    "\n",
    "def show_metrics(pred_tag, y_test):\n",
    "    print(\"F1-score: \", f1_score(pred_tag, y_test))\n",
    "    print(\"Precision: \", precision_score(pred_tag, y_test))\n",
    "    print(\"Recall: \", recall_score(pred_tag, y_test))\n",
    "    print(\"Acuracy: \", accuracy_score(pred_tag, y_test))\n",
    "    print(\"-\"*50)\n",
    "    print(classification_report(pred_tag, y_test))\n",
    "    \n",
    "def embed(corpus): \n",
    "    return word_tokenizer.texts_to_sequences(corpus)\n",
    "\n",
    "def plot_learning_curves(history, arr):\n",
    "    fig, ax = plt.subplots(1, 2, figsize=(20, 5))\n",
    "    for idx in range(2):\n",
    "        ax[idx].plot(history.history[arr[idx][0]])\n",
    "        ax[idx].plot(history.history[arr[idx][1]])\n",
    "        ax[idx].legend([arr[idx][0], arr[idx][1]],fontsize=18)\n",
    "        ax[idx].set_xlabel('A ',fontsize=16)\n",
    "        ax[idx].set_ylabel('B',fontsize=16)\n",
    "        ax[idx].set_title(arr[idx][0] + ' X ' + arr[idx][1],fontsize=16)\n",
    "\n",
    "stop_words = stopwords.words('english')\n",
    "more_stopwords = ['u', 'im', 'c']\n",
    "stop_words = stop_words + more_stopwords\n",
    "\n",
    "stemmer = nltk.SnowballStemmer(\"english\")        \n",
    "\n",
    "def preprocess_data(text):\n",
    "    # Clean puntuation, urls, and so on\n",
    "    text = clean_text(text)\n",
    "    # Remove stopwords and Stemm all the words in the sentence\n",
    "    text = ' '.join(stemmer.stem(word) for word in text.split(' ') if word not in stop_words)\n",
    "\n",
    "    return text"
   ]
  },
  {
   "cell_type": "code",
   "execution_count": 111,
   "id": "c5181d85",
   "metadata": {},
   "outputs": [
    {
     "data": {
      "text/html": [
       "<div>\n",
       "<style scoped>\n",
       "    .dataframe tbody tr th:only-of-type {\n",
       "        vertical-align: middle;\n",
       "    }\n",
       "\n",
       "    .dataframe tbody tr th {\n",
       "        vertical-align: top;\n",
       "    }\n",
       "\n",
       "    .dataframe thead th {\n",
       "        text-align: right;\n",
       "    }\n",
       "</style>\n",
       "<table border=\"1\" class=\"dataframe\">\n",
       "  <thead>\n",
       "    <tr style=\"text-align: right;\">\n",
       "      <th></th>\n",
       "      <th>id</th>\n",
       "      <th>text</th>\n",
       "      <th>target</th>\n",
       "      <th>text_clean</th>\n",
       "    </tr>\n",
       "  </thead>\n",
       "  <tbody>\n",
       "    <tr>\n",
       "      <th>0</th>\n",
       "      <td>1</td>\n",
       "      <td>Our Deeds are the Reason of this #earthquake M...</td>\n",
       "      <td>1</td>\n",
       "      <td>deed reason earthquak may allah forgiv us</td>\n",
       "    </tr>\n",
       "    <tr>\n",
       "      <th>1</th>\n",
       "      <td>4</td>\n",
       "      <td>Forest fire near La Ronge Sask. Canada</td>\n",
       "      <td>1</td>\n",
       "      <td>forest fire near la rong sask canada</td>\n",
       "    </tr>\n",
       "    <tr>\n",
       "      <th>2</th>\n",
       "      <td>5</td>\n",
       "      <td>All residents asked to 'shelter in place' are ...</td>\n",
       "      <td>1</td>\n",
       "      <td>resid ask shelter place notifi offic evacu she...</td>\n",
       "    </tr>\n",
       "    <tr>\n",
       "      <th>3</th>\n",
       "      <td>6</td>\n",
       "      <td>13,000 people receive #wildfires evacuation or...</td>\n",
       "      <td>1</td>\n",
       "      <td>peopl receiv wildfir evacu order california</td>\n",
       "    </tr>\n",
       "    <tr>\n",
       "      <th>4</th>\n",
       "      <td>7</td>\n",
       "      <td>Just got sent this photo from Ruby #Alaska as ...</td>\n",
       "      <td>1</td>\n",
       "      <td>got sent photo rubi alaska smoke wildfir pour ...</td>\n",
       "    </tr>\n",
       "  </tbody>\n",
       "</table>\n",
       "</div>"
      ],
      "text/plain": [
       "   id                                               text  target  \\\n",
       "0   1  Our Deeds are the Reason of this #earthquake M...       1   \n",
       "1   4             Forest fire near La Ronge Sask. Canada       1   \n",
       "2   5  All residents asked to 'shelter in place' are ...       1   \n",
       "3   6  13,000 people receive #wildfires evacuation or...       1   \n",
       "4   7  Just got sent this photo from Ruby #Alaska as ...       1   \n",
       "\n",
       "                                          text_clean  \n",
       "0          deed reason earthquak may allah forgiv us  \n",
       "1               forest fire near la rong sask canada  \n",
       "2  resid ask shelter place notifi offic evacu she...  \n",
       "3       peopl receiv wildfir evacu order california   \n",
       "4  got sent photo rubi alaska smoke wildfir pour ...  "
      ]
     },
     "execution_count": 111,
     "metadata": {},
     "output_type": "execute_result"
    }
   ],
   "source": [
    "test_df['text_clean'] = test_df['text'].apply(preprocess_data)\n",
    "\n",
    "train_df['text_clean'] = train_df['text'].apply(preprocess_data)\n",
    "train_df.head()"
   ]
  },
  {
   "cell_type": "code",
   "execution_count": 32,
   "id": "e8d31793",
   "metadata": {},
   "outputs": [],
   "source": [
    "train_tweets = train_df['text_clean'].values\n",
    "test_tweets = test_df['text_clean'].values\n",
    "train_target = train_df['target'].values"
   ]
  },
  {
   "cell_type": "code",
   "execution_count": 33,
   "id": "92b50dba",
   "metadata": {},
   "outputs": [
    {
     "data": {
      "text/plain": [
       "13704"
      ]
     },
     "execution_count": 33,
     "metadata": {},
     "output_type": "execute_result"
    }
   ],
   "source": [
    "# Calculate the length of our vocabulary\n",
    "word_tokenizer = Tokenizer()\n",
    "word_tokenizer.fit_on_texts(train_tweets)\n",
    "\n",
    "vocab_length = len(word_tokenizer.word_index) + 1\n",
    "vocab_length"
   ]
  },
  {
   "cell_type": "code",
   "execution_count": 34,
   "id": "b7e874e1",
   "metadata": {},
   "outputs": [
    {
     "data": {
      "text/plain": [
       "array([[3635,  467,  201, ...,    0,    0,    0],\n",
       "       [ 136,    2,  106, ...,    0,    0,    0],\n",
       "       [1338,  502, 1807, ...,    0,    0,    0],\n",
       "       ...,\n",
       "       [ 448, 1328,    0, ...,    0,    0,    0],\n",
       "       [  28,  162, 2637, ...,    0,    0,    0],\n",
       "       [ 171,   31,  413, ...,    0,    0,    0]])"
      ]
     },
     "execution_count": 34,
     "metadata": {},
     "output_type": "execute_result"
    }
   ],
   "source": [
    "longest_train = max(train_tweets, key=lambda sentence: len(word_tokenize(sentence)))\n",
    "length_long_sentence = len(word_tokenize(longest_train))\n",
    "\n",
    "train_padded_sentences = pad_sequences(\n",
    "    embed(train_tweets), \n",
    "    length_long_sentence, \n",
    "    padding='post'\n",
    ")\n",
    "\n",
    "test_padded_sentences = pad_sequences(\n",
    "    embed(test_tweets), \n",
    "    length_long_sentence,\n",
    "    padding='post'\n",
    ")\n",
    "\n",
    "train_padded_sentences"
   ]
  },
  {
   "cell_type": "code",
   "execution_count": 35,
   "id": "da49f2be",
   "metadata": {},
   "outputs": [],
   "source": [
    "# Split data into train and test sets\n",
    "X_train, X_val, y_train, y_val = train_test_split(\n",
    "    train_padded_sentences, \n",
    "    train_target, \n",
    "    test_size=0.25\n",
    ")"
   ]
  },
  {
   "cell_type": "markdown",
   "id": "2a836a83",
   "metadata": {},
   "source": [
    "### Model: GLoVe-LSTM"
   ]
  },
  {
   "cell_type": "code",
   "execution_count": 36,
   "id": "5b12d8cd",
   "metadata": {},
   "outputs": [],
   "source": [
    "embeddings_dictionary = dict()\n",
    "embedding_dim = 100\n",
    "\n",
    "# Load GloVe 100D embeddings\n",
    "with open('glove.6B.100d.txt', encoding=\"utf8\") as fp:\n",
    "    for line in fp.readlines():\n",
    "        records = line.split()\n",
    "        word = records[0]\n",
    "        vector_dimensions = np.asarray(records[1:], dtype='float32')\n",
    "        embeddings_dictionary [word] = vector_dimensions\n",
    "\n",
    "# embeddings_dictionary"
   ]
  },
  {
   "cell_type": "code",
   "execution_count": 48,
   "id": "72f04ebb",
   "metadata": {},
   "outputs": [
    {
     "data": {
      "text/plain": [
       "array([[ 0.        ,  0.        ,  0.        , ...,  0.        ,\n",
       "         0.        ,  0.        ],\n",
       "       [-0.2687    ,  0.81708002,  0.69896001, ..., -0.40110001,\n",
       "         0.74656999,  0.31121999],\n",
       "       [-0.26872   , -0.15542001, -0.23565   , ...,  0.49344   ,\n",
       "         0.72114003, -0.041749  ],\n",
       "       ...,\n",
       "       [ 0.        ,  0.        ,  0.        , ...,  0.        ,\n",
       "         0.        ,  0.        ],\n",
       "       [ 0.19814   , -0.33517   , -0.13950001, ..., -0.070356  ,\n",
       "        -0.18391   ,  0.62439001],\n",
       "       [-0.34132001,  0.26423001,  0.47813001, ..., -0.92395002,\n",
       "         0.48275   ,  0.52947998]])"
      ]
     },
     "execution_count": 48,
     "metadata": {},
     "output_type": "execute_result"
    }
   ],
   "source": [
    "embedding_matrix = np.zeros((vocab_length, embedding_dim))\n",
    "\n",
    "for word, index in word_tokenizer.word_index.items():\n",
    "    embedding_vector = embeddings_dictionary.get(word)\n",
    "    if embedding_vector is not None:\n",
    "        embedding_matrix[index] = embedding_vector\n",
    "        \n",
    "embedding_matrix"
   ]
  },
  {
   "cell_type": "code",
   "execution_count": 49,
   "id": "418d337a",
   "metadata": {},
   "outputs": [
    {
     "name": "stdout",
     "output_type": "stream",
     "text": [
      "WARNING:tensorflow:Layer lstm_1 will not use cuDNN kernels since it doesn't meet the criteria. It will use a generic GPU kernel as fallback when running on GPU.\n",
      "WARNING:tensorflow:Layer lstm_1 will not use cuDNN kernels since it doesn't meet the criteria. It will use a generic GPU kernel as fallback when running on GPU.\n",
      "WARNING:tensorflow:Layer lstm_1 will not use cuDNN kernels since it doesn't meet the criteria. It will use a generic GPU kernel as fallback when running on GPU.\n",
      "Model: \"sequential_1\"\n",
      "_________________________________________________________________\n",
      " Layer (type)                Output Shape              Param #   \n",
      "=================================================================\n",
      " embedding_1 (Embedding)     (None, 23, 100)           1370400   \n",
      "                                                                 \n",
      " bidirectional_1 (Bidirectio  (None, 23, 46)           22816     \n",
      " nal)                                                            \n",
      "                                                                 \n",
      " global_max_pooling1d_1 (Glo  (None, 46)               0         \n",
      " balMaxPooling1D)                                                \n",
      "                                                                 \n",
      " batch_normalization_1 (Batc  (None, 46)               184       \n",
      " hNormalization)                                                 \n",
      "                                                                 \n",
      " dropout_3 (Dropout)         (None, 46)                0         \n",
      "                                                                 \n",
      " dense_3 (Dense)             (None, 23)                1081      \n",
      "                                                                 \n",
      " dropout_4 (Dropout)         (None, 23)                0         \n",
      "                                                                 \n",
      " dense_4 (Dense)             (None, 23)                552       \n",
      "                                                                 \n",
      " dropout_5 (Dropout)         (None, 23)                0         \n",
      "                                                                 \n",
      " dense_5 (Dense)             (None, 1)                 24        \n",
      "                                                                 \n",
      "=================================================================\n",
      "Total params: 1,395,057\n",
      "Trainable params: 1,394,965\n",
      "Non-trainable params: 92\n",
      "_________________________________________________________________\n"
     ]
    }
   ],
   "source": [
    "# https://www.kaggle.com/mariapushkareva/nlp-disaster-tweets-with-glove-and-lstm/data\n",
    "def glove_lstm():\n",
    "    model = Sequential()\n",
    "    \n",
    "    model.add(Embedding(\n",
    "        input_dim=embedding_matrix.shape[0], \n",
    "        output_dim=embedding_matrix.shape[1], \n",
    "        weights = [embedding_matrix], \n",
    "        input_length=length_long_sentence\n",
    "    ))\n",
    "    \n",
    "    model.add(Bidirectional(LSTM(\n",
    "        length_long_sentence, \n",
    "        return_sequences = True, \n",
    "        recurrent_dropout=0.2\n",
    "    )))\n",
    "    \n",
    "    model.add(GlobalMaxPool1D())\n",
    "    model.add(BatchNormalization())\n",
    "    model.add(Dropout(0.5))\n",
    "    model.add(Dense(length_long_sentence, activation = \"relu\"))\n",
    "    model.add(Dropout(0.5))\n",
    "    model.add(Dense(length_long_sentence, activation = \"relu\"))\n",
    "    model.add(Dropout(0.5))\n",
    "    model.add(Dense(1, activation = 'sigmoid'))\n",
    "    model.compile(optimizer='rmsprop', loss='binary_crossentropy', metrics=['accuracy'])\n",
    "    \n",
    "    return model\n",
    "\n",
    "model = glove_lstm()\n",
    "model.summary()"
   ]
  },
  {
   "cell_type": "code",
   "execution_count": 50,
   "id": "5b58998a",
   "metadata": {},
   "outputs": [],
   "source": [
    "model_glove_lstm_filename = 'model_glove_lstm.h5'"
   ]
  },
  {
   "cell_type": "code",
   "execution_count": 51,
   "id": "57f1f662",
   "metadata": {},
   "outputs": [
    {
     "name": "stdout",
     "output_type": "stream",
     "text": [
      "WARNING:tensorflow:Layer lstm_2 will not use cuDNN kernels since it doesn't meet the criteria. It will use a generic GPU kernel as fallback when running on GPU.\n",
      "WARNING:tensorflow:Layer lstm_2 will not use cuDNN kernels since it doesn't meet the criteria. It will use a generic GPU kernel as fallback when running on GPU.\n",
      "WARNING:tensorflow:Layer lstm_2 will not use cuDNN kernels since it doesn't meet the criteria. It will use a generic GPU kernel as fallback when running on GPU.\n",
      "Epoch 1/10\n",
      "179/179 [==============================] - ETA: 0s - loss: 0.7789 - accuracy: 0.5787\n",
      "Epoch 1: val_loss improved from inf to 0.65691, saving model to model_glove_lstm.h5\n",
      "179/179 [==============================] - 85s 443ms/step - loss: 0.7789 - accuracy: 0.5787 - val_loss: 0.6569 - val_accuracy: 0.7264 - lr: 0.0010\n",
      "Epoch 2/10\n",
      "179/179 [==============================] - ETA: 0s - loss: 0.6393 - accuracy: 0.6563\n",
      "Epoch 2: val_loss improved from 0.65691 to 0.56949, saving model to model_glove_lstm.h5\n",
      "179/179 [==============================] - 82s 457ms/step - loss: 0.6393 - accuracy: 0.6563 - val_loss: 0.5695 - val_accuracy: 0.7705 - lr: 0.0010\n",
      "Epoch 3/10\n",
      "179/179 [==============================] - ETA: 0s - loss: 0.5644 - accuracy: 0.7255\n",
      "Epoch 3: val_loss improved from 0.56949 to 0.48552, saving model to model_glove_lstm.h5\n",
      "179/179 [==============================] - 81s 452ms/step - loss: 0.5644 - accuracy: 0.7255 - val_loss: 0.4855 - val_accuracy: 0.7868 - lr: 0.0010\n",
      "Epoch 4/10\n",
      "179/179 [==============================] - ETA: 0s - loss: 0.5145 - accuracy: 0.7646\n",
      "Epoch 4: val_loss improved from 0.48552 to 0.46877, saving model to model_glove_lstm.h5\n",
      "179/179 [==============================] - 83s 464ms/step - loss: 0.5145 - accuracy: 0.7646 - val_loss: 0.4688 - val_accuracy: 0.7920 - lr: 0.0010\n",
      "Epoch 5/10\n",
      "179/179 [==============================] - ETA: 0s - loss: 0.4839 - accuracy: 0.7963\n",
      "Epoch 5: val_loss improved from 0.46877 to 0.45288, saving model to model_glove_lstm.h5\n",
      "179/179 [==============================] - 85s 473ms/step - loss: 0.4839 - accuracy: 0.7963 - val_loss: 0.4529 - val_accuracy: 0.8030 - lr: 0.0010\n",
      "Epoch 6/10\n",
      "179/179 [==============================] - ETA: 0s - loss: 0.4499 - accuracy: 0.8154\n",
      "Epoch 6: val_loss improved from 0.45288 to 0.44464, saving model to model_glove_lstm.h5\n",
      "179/179 [==============================] - 83s 466ms/step - loss: 0.4499 - accuracy: 0.8154 - val_loss: 0.4446 - val_accuracy: 0.8030 - lr: 0.0010\n",
      "Epoch 7/10\n",
      "179/179 [==============================] - ETA: 0s - loss: 0.4226 - accuracy: 0.8315\n",
      "Epoch 7: val_loss did not improve from 0.44464\n",
      "179/179 [==============================] - 82s 457ms/step - loss: 0.4226 - accuracy: 0.8315 - val_loss: 0.4716 - val_accuracy: 0.8093 - lr: 0.0010\n",
      "Epoch 8/10\n",
      "179/179 [==============================] - ETA: 0s - loss: 0.3993 - accuracy: 0.8420\n",
      "Epoch 8: val_loss did not improve from 0.44464\n",
      "179/179 [==============================] - 83s 467ms/step - loss: 0.3993 - accuracy: 0.8420 - val_loss: 0.4574 - val_accuracy: 0.8088 - lr: 0.0010\n",
      "Epoch 9/10\n",
      "179/179 [==============================] - ETA: 0s - loss: 0.3650 - accuracy: 0.8611\n",
      "Epoch 9: val_loss did not improve from 0.44464\n",
      "179/179 [==============================] - 84s 469ms/step - loss: 0.3650 - accuracy: 0.8611 - val_loss: 0.4689 - val_accuracy: 0.8099 - lr: 0.0010\n",
      "Epoch 10/10\n",
      "179/179 [==============================] - ETA: 0s - loss: 0.3510 - accuracy: 0.8690\n",
      "Epoch 10: val_loss did not improve from 0.44464\n",
      "179/179 [==============================] - 79s 444ms/step - loss: 0.3510 - accuracy: 0.8690 - val_loss: 0.5037 - val_accuracy: 0.8088 - lr: 0.0010\n"
     ]
    }
   ],
   "source": [
    "# Load the model and train!!\n",
    "\n",
    "model_glove_lstm = glove_lstm()\n",
    "\n",
    "checkpoint = ModelCheckpoint(\n",
    "    model_glove_lstm_filename, \n",
    "    monitor = 'val_loss', \n",
    "    verbose = 1, \n",
    "    save_best_only = True\n",
    ")\n",
    "\n",
    "reduce_lr = ReduceLROnPlateau(\n",
    "    monitor = 'val_loss', \n",
    "    factor = 0.2, \n",
    "    verbose = 1, \n",
    "    patience = 5,\n",
    "    min_lr = 0.001\n",
    ")\n",
    "\n",
    "history_glove_lstm = model_glove_lstm.fit(\n",
    "    X_train, \n",
    "    y_train, \n",
    "    epochs = 10,\n",
    "    batch_size = 32,\n",
    "    validation_data = (X_val, y_val),\n",
    "    verbose = 1,\n",
    "    callbacks = [reduce_lr, checkpoint]\n",
    ")"
   ]
  },
  {
   "cell_type": "code",
   "execution_count": 52,
   "id": "ad971936",
   "metadata": {},
   "outputs": [
    {
     "data": {
      "image/png": "[encoded data removed]",
      "text/plain": [
       "<Figure size 1440x360 with 2 Axes>"
      ]
     },
     "metadata": {
      "needs_background": "light"
     },
     "output_type": "display_data"
    }
   ],
   "source": [
    "plot_learning_curves(history_glove_lstm, [['loss', 'val_loss'],['accuracy', 'val_accuracy']])"
   ]
  },
  {
   "cell_type": "code",
   "execution_count": null,
   "id": "d64925ea",
   "metadata": {},
   "outputs": [],
   "source": [
    "# model_glove_lstm.save(model_glove_lstm_filename)"
   ]
  },
  {
   "cell_type": "code",
   "execution_count": 54,
   "id": "ef526968",
   "metadata": {},
   "outputs": [
    {
     "name": "stdout",
     "output_type": "stream",
     "text": [
      "WARNING:tensorflow:Layer lstm_2 will not use cuDNN kernels since it doesn't meet the criteria. It will use a generic GPU kernel as fallback when running on GPU.\n",
      "WARNING:tensorflow:Layer lstm_2 will not use cuDNN kernels since it doesn't meet the criteria. It will use a generic GPU kernel as fallback when running on GPU.\n",
      "WARNING:tensorflow:Layer lstm_2 will not use cuDNN kernels since it doesn't meet the criteria. It will use a generic GPU kernel as fallback when running on GPU.\n",
      "Model: \"sequential_2\"\n",
      "_________________________________________________________________\n",
      " Layer (type)                Output Shape              Param #   \n",
      "=================================================================\n",
      " embedding_2 (Embedding)     (None, 23, 100)           1370400   \n",
      "                                                                 \n",
      " bidirectional_2 (Bidirectio  (None, 23, 46)           22816     \n",
      " nal)                                                            \n",
      "                                                                 \n",
      " global_max_pooling1d_2 (Glo  (None, 46)               0         \n",
      " balMaxPooling1D)                                                \n",
      "                                                                 \n",
      " batch_normalization_2 (Batc  (None, 46)               184       \n",
      " hNormalization)                                                 \n",
      "                                                                 \n",
      " dropout_6 (Dropout)         (None, 46)                0         \n",
      "                                                                 \n",
      " dense_6 (Dense)             (None, 23)                1081      \n",
      "                                                                 \n",
      " dropout_7 (Dropout)         (None, 23)                0         \n",
      "                                                                 \n",
      " dense_7 (Dense)             (None, 23)                552       \n",
      "                                                                 \n",
      " dropout_8 (Dropout)         (None, 23)                0         \n",
      "                                                                 \n",
      " dense_8 (Dense)             (None, 1)                 24        \n",
      "                                                                 \n",
      "=================================================================\n",
      "Total params: 1,395,057\n",
      "Trainable params: 1,394,965\n",
      "Non-trainable params: 92\n",
      "_________________________________________________________________\n"
     ]
    }
   ],
   "source": [
    "model_glove_lstm_final = load_model(model_glove_lstm_filename)\n",
    "model_glove_lstm_final.summary()"
   ]
  },
  {
   "cell_type": "code",
   "execution_count": 55,
   "id": "783388d1",
   "metadata": {},
   "outputs": [
    {
     "name": "stdout",
     "output_type": "stream",
     "text": [
      "60/60 [==============================] - 3s 45ms/step\n"
     ]
    }
   ],
   "source": [
    "y_pred = (model_glove_lstm_final.predict(X_val) > 0.5).astype(\"int32\")"
   ]
  },
  {
   "cell_type": "code",
   "execution_count": 58,
   "id": "b0f2ae75",
   "metadata": {},
   "outputs": [
    {
     "name": "stdout",
     "output_type": "stream",
     "text": [
      "confusion matrix:\n",
      " [[994  95]\n",
      " [280 535]]\n",
      "              precision    recall  f1-score   support\n",
      "\n",
      "           0       0.78      0.91      0.84      1089\n",
      "           1       0.85      0.66      0.74       815\n",
      "\n",
      "    accuracy                           0.80      1904\n",
      "   macro avg       0.81      0.78      0.79      1904\n",
      "weighted avg       0.81      0.80      0.80      1904\n",
      "\n"
     ]
    }
   ],
   "source": [
    "cm = confusion_matrix(y_val,y_pred)\n",
    "print('confusion matrix:\\n',cm)\n",
    "print(classification_report(y_val, y_pred))"
   ]
  },
  {
   "cell_type": "markdown",
   "id": "8c46f81d",
   "metadata": {},
   "source": [
    "### Sumission: GLoVe-LSTM"
   ]
  },
  {
   "cell_type": "code",
   "execution_count": 66,
   "id": "f8e3bb45",
   "metadata": {},
   "outputs": [
    {
     "name": "stdout",
     "output_type": "stream",
     "text": [
      "102/102 [==============================] - 4s 44ms/step\n"
     ]
    }
   ],
   "source": [
    "y = (model_glove_lstm_final.predict(test_padded_sentences) > 0.5).astype(\"int32\")"
   ]
  },
  {
   "cell_type": "code",
   "execution_count": 72,
   "id": "937a9c92",
   "metadata": {},
   "outputs": [],
   "source": [
    "y_labels = []\n",
    "for i in range (0, len(y)):\n",
    "    y_labels.append(y[i][0])"
   ]
  },
  {
   "cell_type": "code",
   "execution_count": 74,
   "id": "6bc8347c",
   "metadata": {},
   "outputs": [],
   "source": [
    "# create submission file\n",
    "submission_glove_lstm = pd.DataFrame({\"id\": (test_df['id']),\"target\": y_labels})\n",
    "submission_glove_lstm.to_csv('submission_glove_lstm.csv', index=False)"
   ]
  },
  {
   "attachments": {
    "image01-glove-lstm.jpg": {
     "image/jpeg": "[encoded data removed]"
    }
   },
   "cell_type": "markdown",
   "id": "b57b93f3",
   "metadata": {},
   "source": [
    "![image01-glove-lstm.jpg](attachment:image01-glove-lstm.jpg)"
   ]
  },
  {
   "cell_type": "markdown",
   "id": "3d58bcd0",
   "metadata": {},
   "source": [
    "### Model: BERT"
   ]
  },
  {
   "cell_type": "code",
   "execution_count": 89,
   "id": "680561d3",
   "metadata": {},
   "outputs": [],
   "source": [
    "train = pd.read_csv('train.csv')\n",
    "test = pd.read_csv('test.csv')"
   ]
  },
  {
   "cell_type": "code",
   "execution_count": 90,
   "id": "0c4013d4",
   "metadata": {},
   "outputs": [],
   "source": [
    "BERT_MODEL_NAME = 'bert-base-uncased'\n",
    "bert_tokenizer = BertTokenizer.from_pretrained(BERT_MODEL_NAME, do_lower_case=True)\n",
    "\n",
    "def bert_encode(data,maximum_length) :\n",
    "    input_ids = []\n",
    "    attention_masks = []\n",
    "  \n",
    "\n",
    "    for i in range(len(data.text)):\n",
    "        encoded = bert_tokenizer.encode_plus(\n",
    "\n",
    "        data.text[i],\n",
    "        add_special_tokens=True,\n",
    "        max_length=maximum_length,\n",
    "        pad_to_max_length=True,\n",
    "\n",
    "        return_attention_mask=True,\n",
    "\n",
    "        )\n",
    "\n",
    "        input_ids.append(encoded['input_ids'])\n",
    "        attention_masks.append(encoded['attention_mask'])\n",
    "        \n",
    "    return np.array(input_ids),np.array(attention_masks)"
   ]
  },
  {
   "cell_type": "code",
   "execution_count": 91,
   "id": "abd01033",
   "metadata": {},
   "outputs": [
    {
     "name": "stderr",
     "output_type": "stream",
     "text": [
      "Truncation was not explicitly activated but `max_length` is provided a specific value, please use `truncation=True` to explicitly truncate examples to max length. Defaulting to 'longest_first' truncation strategy. If you encode pairs of sequences (GLUE-style) with the tokenizer you can select this strategy more precisely by providing a specific strategy to `truncation`.\n",
      "C:\\Users\\Reed\\anaconda3\\lib\\site-packages\\transformers\\tokenization_utils_base.py:2285: FutureWarning:\n",
      "\n",
      "The `pad_to_max_length` argument is deprecated and will be removed in a future version, use `padding=True` or `padding='longest'` to pad to the longest sequence in the batch, or use `padding='max_length'` to pad to a max length. In this case, you can give a specific length with `max_length` (e.g. `max_length=45`) or leave max_length to None to pad to the maximal input size of the model (e.g. 512 for Bert).\n",
      "\n"
     ]
    }
   ],
   "source": [
    "train_input_ids,train_attention_masks = bert_encode(train,60)\n",
    "test_input_ids,test_attention_masks = bert_encode(test,60)"
   ]
  },
  {
   "cell_type": "code",
   "execution_count": 92,
   "id": "45a6bcf5",
   "metadata": {},
   "outputs": [],
   "source": [
    "def create_model(bert_model):\n",
    "    \n",
    "    input_ids = tf.keras.Input(shape=(60,),dtype='int32')\n",
    "    attention_masks = tf.keras.Input(shape=(60,),dtype='int32')\n",
    "\n",
    "    output = bert_model([input_ids,attention_masks])\n",
    "    output = output[1]\n",
    "    output = tf.keras.layers.Dense(32,activation='relu')(output)\n",
    "    output = tf.keras.layers.Dropout(0.2)(output)\n",
    "    output = tf.keras.layers.Dense(1,activation='sigmoid')(output)\n",
    "    \n",
    "    model = tf.keras.models.Model(inputs = [input_ids,attention_masks],outputs = output)\n",
    "    model.compile(Adam(learning_rate=6e-6), loss='binary_crossentropy', metrics=['accuracy'])\n",
    "    return model"
   ]
  },
  {
   "cell_type": "code",
   "execution_count": 93,
   "id": "5f93965a",
   "metadata": {},
   "outputs": [
    {
     "name": "stderr",
     "output_type": "stream",
     "text": [
      "Some layers from the model checkpoint at bert-base-uncased were not used when initializing TFBertModel: ['nsp___cls', 'mlm___cls']\n",
      "- This IS expected if you are initializing TFBertModel from the checkpoint of a model trained on another task or with another architecture (e.g. initializing a BertForSequenceClassification model from a BertForPreTraining model).\n",
      "- This IS NOT expected if you are initializing TFBertModel from the checkpoint of a model that you expect to be exactly identical (initializing a BertForSequenceClassification model from a BertForSequenceClassification model).\n",
      "All the layers of TFBertModel were initialized from the model checkpoint at bert-base-uncased.\n",
      "If your task is similar to the task the model of the checkpoint was trained on, you can already use TFBertModel for predictions without further training.\n"
     ]
    }
   ],
   "source": [
    "bert_model_pretrained = TFBertModel.from_pretrained(BERT_MODEL_NAME)"
   ]
  },
  {
   "cell_type": "code",
   "execution_count": 94,
   "id": "15a32d57",
   "metadata": {},
   "outputs": [
    {
     "name": "stdout",
     "output_type": "stream",
     "text": [
      "Model: \"model_1\"\n",
      "__________________________________________________________________________________________________\n",
      " Layer (type)                   Output Shape         Param #     Connected to                     \n",
      "==================================================================================================\n",
      " input_3 (InputLayer)           [(None, 60)]         0           []                               \n",
      "                                                                                                  \n",
      " input_4 (InputLayer)           [(None, 60)]         0           []                               \n",
      "                                                                                                  \n",
      " tf_bert_model_1 (TFBertModel)  TFBaseModelOutputWi  109482240   ['input_3[0][0]',                \n",
      "                                thPoolingAndCrossAt               'input_4[0][0]']                \n",
      "                                tentions(last_hidde                                               \n",
      "                                n_state=(None, 60,                                                \n",
      "                                768),                                                             \n",
      "                                 pooler_output=(Non                                               \n",
      "                                e, 768),                                                          \n",
      "                                 past_key_values=No                                               \n",
      "                                ne, hidden_states=N                                               \n",
      "                                one, attentions=Non                                               \n",
      "                                e, cross_attentions                                               \n",
      "                                =None)                                                            \n",
      "                                                                                                  \n",
      " dense_11 (Dense)               (None, 32)           24608       ['tf_bert_model_1[0][1]']        \n",
      "                                                                                                  \n",
      " dropout_84 (Dropout)           (None, 32)           0           ['dense_11[0][0]']               \n",
      "                                                                                                  \n",
      " dense_12 (Dense)               (None, 1)            33          ['dropout_84[0][0]']             \n",
      "                                                                                                  \n",
      "==================================================================================================\n",
      "Total params: 109,506,881\n",
      "Trainable params: 109,506,881\n",
      "Non-trainable params: 0\n",
      "__________________________________________________________________________________________________\n"
     ]
    }
   ],
   "source": [
    "model_bert = create_model(bert_model_pretrained)\n",
    "model_bert.summary()"
   ]
  },
  {
   "cell_type": "code",
   "execution_count": 95,
   "id": "e7eeb72d",
   "metadata": {},
   "outputs": [
    {
     "name": "stdout",
     "output_type": "stream",
     "text": [
      "Epoch 1/10\n",
      "609/609 [==============================] - 82s 118ms/step - loss: 0.4814 - accuracy: 0.7765 - val_loss: 0.3729 - val_accuracy: 0.8418\n",
      "Epoch 2/10\n",
      "609/609 [==============================] - 69s 113ms/step - loss: 0.3682 - accuracy: 0.8537 - val_loss: 0.3660 - val_accuracy: 0.8411\n",
      "Epoch 3/10\n",
      "609/609 [==============================] - 68s 112ms/step - loss: 0.3056 - accuracy: 0.8854 - val_loss: 0.3949 - val_accuracy: 0.8378\n",
      "Epoch 4/10\n",
      "609/609 [==============================] - 69s 113ms/step - loss: 0.2508 - accuracy: 0.9103 - val_loss: 0.4269 - val_accuracy: 0.8299\n",
      "Epoch 5/10\n",
      "609/609 [==============================] - 69s 113ms/step - loss: 0.2076 - accuracy: 0.9287 - val_loss: 0.4794 - val_accuracy: 0.8253\n",
      "Epoch 6/10\n",
      "609/609 [==============================] - 70s 115ms/step - loss: 0.1593 - accuracy: 0.9491 - val_loss: 0.5302 - val_accuracy: 0.8267\n",
      "Epoch 7/10\n",
      "609/609 [==============================] - 69s 113ms/step - loss: 0.1303 - accuracy: 0.9553 - val_loss: 0.6226 - val_accuracy: 0.8188\n",
      "Epoch 8/10\n",
      "609/609 [==============================] - 70s 114ms/step - loss: 0.1159 - accuracy: 0.9622 - val_loss: 0.6352 - val_accuracy: 0.8273\n",
      "Epoch 9/10\n",
      "609/609 [==============================] - 68s 112ms/step - loss: 0.0977 - accuracy: 0.9681 - val_loss: 0.6998 - val_accuracy: 0.8011\n",
      "Epoch 10/10\n",
      "609/609 [==============================] - 68s 111ms/step - loss: 0.0799 - accuracy: 0.9731 - val_loss: 0.7211 - val_accuracy: 0.8188\n"
     ]
    }
   ],
   "source": [
    "history_bert = model_bert.fit(\n",
    "    [train_input_ids,train_attention_masks],\n",
    "    train['target'],\n",
    "    validation_split=0.2,\n",
    "    epochs=10,\n",
    "    batch_size=10,\n",
    "    verbose=1)"
   ]
  },
  {
   "cell_type": "code",
   "execution_count": 96,
   "id": "66018bf6",
   "metadata": {},
   "outputs": [
    {
     "data": {
      "image/png": "[encoded data removed]",
      "text/plain": [
       "<Figure size 1440x360 with 2 Axes>"
      ]
     },
     "metadata": {
      "needs_background": "light"
     },
     "output_type": "display_data"
    }
   ],
   "source": [
    "plot_learning_curves(history_bert, [['loss', 'val_loss'],['accuracy', 'val_accuracy']])"
   ]
  },
  {
   "cell_type": "markdown",
   "id": "9440673b",
   "metadata": {},
   "source": [
    "### Sumission: GLoVe-LSTM"
   ]
  },
  {
   "cell_type": "code",
   "execution_count": 98,
   "id": "d451c253",
   "metadata": {},
   "outputs": [
    {
     "name": "stdout",
     "output_type": "stream",
     "text": [
      "102/102 [==============================] - 12s 84ms/step\n"
     ]
    },
    {
     "data": {
      "text/html": [
       "<div>\n",
       "<style scoped>\n",
       "    .dataframe tbody tr th:only-of-type {\n",
       "        vertical-align: middle;\n",
       "    }\n",
       "\n",
       "    .dataframe tbody tr th {\n",
       "        vertical-align: top;\n",
       "    }\n",
       "\n",
       "    .dataframe thead th {\n",
       "        text-align: right;\n",
       "    }\n",
       "</style>\n",
       "<table border=\"1\" class=\"dataframe\">\n",
       "  <thead>\n",
       "    <tr style=\"text-align: right;\">\n",
       "      <th></th>\n",
       "      <th>id</th>\n",
       "      <th>target</th>\n",
       "    </tr>\n",
       "  </thead>\n",
       "  <tbody>\n",
       "    <tr>\n",
       "      <th>0</th>\n",
       "      <td>0</td>\n",
       "      <td>1</td>\n",
       "    </tr>\n",
       "    <tr>\n",
       "      <th>1</th>\n",
       "      <td>2</td>\n",
       "      <td>1</td>\n",
       "    </tr>\n",
       "    <tr>\n",
       "      <th>2</th>\n",
       "      <td>3</td>\n",
       "      <td>1</td>\n",
       "    </tr>\n",
       "    <tr>\n",
       "      <th>3</th>\n",
       "      <td>9</td>\n",
       "      <td>1</td>\n",
       "    </tr>\n",
       "    <tr>\n",
       "      <th>4</th>\n",
       "      <td>11</td>\n",
       "      <td>1</td>\n",
       "    </tr>\n",
       "  </tbody>\n",
       "</table>\n",
       "</div>"
      ],
      "text/plain": [
       "   id  target\n",
       "0   0       1\n",
       "1   2       1\n",
       "2   3       1\n",
       "3   9       1\n",
       "4  11       1"
      ]
     },
     "execution_count": 98,
     "metadata": {},
     "output_type": "execute_result"
    }
   ],
   "source": [
    "y_bert = model_bert.predict([test_input_ids,test_attention_masks])\n",
    "\n",
    "submission_bert = pd.read_csv('sample_submission.csv')\n",
    "submission_bert['target'] = np.round(y_bert).astype(int)\n",
    "submission_bert.to_csv('submission_bert.csv',index=False)\n",
    "submission_bert.head()"
   ]
  },
  {
   "attachments": {
    "image02-bert.jpg": {
     "image/jpeg": "[encoded data removed]"
    }
   },
   "cell_type": "markdown",
   "id": "0d149201",
   "metadata": {},
   "source": [
    "![image02-bert.jpg](attachment:image02-bert.jpg)"
   ]
  },
  {
   "cell_type": "code",
   "execution_count": null,
   "id": "f9b8b127",
   "metadata": {},
   "outputs": [],
   "source": []
  },
  {
   "cell_type": "code",
   "execution_count": null,
   "id": "3678f304",
   "metadata": {},
   "outputs": [],
   "source": []
  },
  {
   "cell_type": "code",
   "execution_count": null,
   "id": "0f2f202b",
   "metadata": {},
   "outputs": [],
   "source": []
  },
  {
   "cell_type": "code",
   "execution_count": null,
   "id": "b507a0e4",
   "metadata": {},
   "outputs": [],
   "source": []
  },
  {
   "cell_type": "markdown",
   "id": "23e7f567",
   "metadata": {},
   "source": [
    "## CONCLUSION"
   ]
  },
  {
   "cell_type": "code",
   "execution_count": null,
   "id": "68545baf",
   "metadata": {},
   "outputs": [],
   "source": []
  }
 ],
 "metadata": {
  "kernelspec": {
   "display_name": "Python 3 (ipykernel)",
   "language": "python",
   "name": "python3"
  },
  "language_info": {
   "codemirror_mode": {
    "name": "ipython",
    "version": 3
   },
   "file_extension": ".py",
   "mimetype": "text/x-python",
   "name": "python",
   "nbconvert_exporter": "python",
   "pygments_lexer": "ipython3",
   "version": "3.9.12"
  }
 },
 "nbformat": 4,
 "nbformat_minor": 5
}
