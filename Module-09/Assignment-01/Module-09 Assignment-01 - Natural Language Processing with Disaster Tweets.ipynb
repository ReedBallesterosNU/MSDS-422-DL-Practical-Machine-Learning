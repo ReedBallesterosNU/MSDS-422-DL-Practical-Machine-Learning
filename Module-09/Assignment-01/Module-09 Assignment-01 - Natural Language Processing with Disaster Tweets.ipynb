{
 "cells": [
  {
   "cell_type": "markdown",
   "id": "8c535867",
   "metadata": {},
   "source": [
    "# Module 9 Assignment 1: Natural Language Processing with Disaster Tweets"
   ]
  },
  {
   "cell_type": "markdown",
   "id": "c8ecd6c1",
   "metadata": {},
   "source": [
    "**Reed Ballesteros**\n",
    "\n",
    "**MSDS-422**\n",
    "\n",
    "**5/29/2022**\n",
    "\n",
    "**Instructor: Prof. Noah Gift**"
   ]
  },
  {
   "cell_type": "markdown",
   "id": "f08766e0",
   "metadata": {},
   "source": [
    "## Natural Language Processing with Disaster Tweets\n",
    "https://www.kaggle.com/competitions/nlp-getting-started/overview\n",
    "\n",
    "### Background Materials\n",
    "Natural language processing is an obvious area for the use of RNN, as the sequence is more important than the individual words.\n",
    "\n",
    "### Management/Research Question\n",
    "In layman’s terms, what is the management/research question of interest, and why would anyone care?  \n",
    "\n",
    "### Requirements\n",
    "- Conduct your analysis using a cross-validation design.\n",
    "- Conduct EDA.\n",
    "- Build at least three RNN models based on hyperparameter tuning.\n",
    "- Evaluate goodness of fit metrics.\n",
    "- Once you have your best-performing models, classify the test data and submit it to Kaggle. Provide your Kaggle.com user name - and screen snapshots of your scores.\n",
    "- Discuss your model’s performance.\n",
    "\n",
    "## Python Programming\n",
    "All programming will be done in Python."
   ]
  },
  {
   "cell_type": "markdown",
   "id": "c2e3bb16",
   "metadata": {},
   "source": [
    "**Libraries to be loaded:**"
   ]
  },
  {
   "cell_type": "code",
   "execution_count": 39,
   "id": "4cdac348",
   "metadata": {},
   "outputs": [],
   "source": [
    "import re\n",
    "import string\n",
    "import numpy as np \n",
    "import random\n",
    "import pandas as pd \n",
    "import matplotlib.pyplot as plt\n",
    "import seaborn as sns\n",
    "%matplotlib inline\n",
    "from plotly import graph_objs as go\n",
    "import plotly.express as px\n",
    "import plotly.figure_factory as ff\n",
    "from collections import Counter\n",
    "\n",
    "from PIL import Image\n",
    "from wordcloud import WordCloud, STOPWORDS, ImageColorGenerator\n",
    "\n",
    "import nltk\n",
    "from nltk.corpus import stopwords\n",
    "from nltk.tokenize import word_tokenize\n",
    "\n",
    "from tqdm import tqdm\n",
    "import os\n",
    "import nltk\n",
    "import spacy\n",
    "import random\n",
    "from spacy.util import compounding\n",
    "from spacy.util import minibatch\n",
    "\n",
    "from collections import defaultdict\n",
    "from collections import Counter\n",
    "\n",
    "import tensorflow\n",
    "from tensorflow.keras.models import Sequential\n",
    "from tensorflow.keras.initializers import Constant\n",
    "from tensorflow.keras.layers import (LSTM, \n",
    "                          Embedding, \n",
    "                          BatchNormalization,\n",
    "                          Dense, \n",
    "                          TimeDistributed, \n",
    "                          Dropout, \n",
    "                          Bidirectional,\n",
    "                          Flatten, \n",
    "                          GlobalMaxPool1D,\n",
    "                          Input)\n",
    "from tensorflow.keras.preprocessing.text import Tokenizer\n",
    "from tensorflow.keras.preprocessing.sequence import pad_sequences\n",
    "from tensorflow.keras.layers import Embedding\n",
    "from tensorflow.keras.callbacks import ModelCheckpoint, ReduceLROnPlateau\n",
    "from tensorflow.keras.optimizers import Adam\n",
    "from tensorflow.keras.models import load_model\n",
    "from tensorflow.keras.models import Model\n",
    "from tensorflow.keras import Input\n",
    "\n",
    "from sklearn.metrics import (\n",
    "    precision_score, \n",
    "    recall_score, \n",
    "    f1_score, \n",
    "    classification_report,\n",
    "    accuracy_score,\n",
    "    confusion_matrix\n",
    ")\n",
    "from sklearn.model_selection import train_test_split\n",
    "\n",
    "import transformers\n",
    "from tqdm.notebook import tqdm\n",
    "from transformers import BertTokenizer\n",
    "from transformers import TFBertModel"
   ]
  },
  {
   "cell_type": "code",
   "execution_count": 2,
   "id": "3db829c4",
   "metadata": {},
   "outputs": [],
   "source": [
    "import torch\n",
    "from tensorflow.python.client import device_lib\n",
    "from tensorflow.config import list_physical_devices\n",
    "from torch import cuda\n",
    "import random"
   ]
  },
  {
   "cell_type": "markdown",
   "id": "ff5fac8d",
   "metadata": {},
   "source": [
    "## INGEST"
   ]
  },
  {
   "cell_type": "markdown",
   "id": "b86c76dc",
   "metadata": {},
   "source": [
    "**Given the kind of ML involved let's see if our GPU is available for use.**"
   ]
  },
  {
   "cell_type": "code",
   "execution_count": 3,
   "id": "bed1fbc3",
   "metadata": {},
   "outputs": [
    {
     "data": {
      "text/plain": [
       "[PhysicalDevice(name='/physical_device:GPU:0', device_type='GPU')]"
      ]
     },
     "execution_count": 3,
     "metadata": {},
     "output_type": "execute_result"
    }
   ],
   "source": [
    "list_physical_devices('GPU')"
   ]
  },
  {
   "cell_type": "code",
   "execution_count": 4,
   "id": "592d3c3b",
   "metadata": {},
   "outputs": [
    {
     "name": "stdout",
     "output_type": "stream",
     "text": [
      "[name: \"/device:CPU:0\"\n",
      "device_type: \"CPU\"\n",
      "memory_limit: 268435456\n",
      "locality {\n",
      "}\n",
      "incarnation: 9465245994688200864\n",
      "xla_global_id: -1\n",
      ", name: \"/device:GPU:0\"\n",
      "device_type: \"GPU\"\n",
      "memory_limit: 5769199616\n",
      "locality {\n",
      "  bus_id: 1\n",
      "  links {\n",
      "  }\n",
      "}\n",
      "incarnation: 12722078767901924359\n",
      "physical_device_desc: \"device: 0, name: NVIDIA GeForce RTX 3060 Ti, pci bus id: 0000:01:00.0, compute capability: 8.6\"\n",
      "xla_global_id: 416903419\n",
      "]\n"
     ]
    }
   ],
   "source": [
    "print(device_lib.list_local_devices())"
   ]
  },
  {
   "cell_type": "code",
   "execution_count": null,
   "id": "2cb0c431",
   "metadata": {},
   "outputs": [],
   "source": []
  },
  {
   "cell_type": "code",
   "execution_count": 5,
   "id": "fd927c46",
   "metadata": {},
   "outputs": [],
   "source": [
    "train_df = pd.read_csv(\"train.csv\", encoding=\"latin-1\")\n",
    "test_df = pd.read_csv(\"test.csv\", encoding=\"latin-1\")\n",
    "\n",
    "train_df = train_df.dropna(how=\"any\", axis=1)"
   ]
  },
  {
   "cell_type": "code",
   "execution_count": 6,
   "id": "7417c713",
   "metadata": {},
   "outputs": [
    {
     "data": {
      "text/html": [
       "<div>\n",
       "<style scoped>\n",
       "    .dataframe tbody tr th:only-of-type {\n",
       "        vertical-align: middle;\n",
       "    }\n",
       "\n",
       "    .dataframe tbody tr th {\n",
       "        vertical-align: top;\n",
       "    }\n",
       "\n",
       "    .dataframe thead th {\n",
       "        text-align: right;\n",
       "    }\n",
       "</style>\n",
       "<table border=\"1\" class=\"dataframe\">\n",
       "  <thead>\n",
       "    <tr style=\"text-align: right;\">\n",
       "      <th></th>\n",
       "      <th>id</th>\n",
       "      <th>text</th>\n",
       "      <th>target</th>\n",
       "    </tr>\n",
       "  </thead>\n",
       "  <tbody>\n",
       "    <tr>\n",
       "      <th>0</th>\n",
       "      <td>1</td>\n",
       "      <td>Our Deeds are the Reason of this #earthquake M...</td>\n",
       "      <td>1</td>\n",
       "    </tr>\n",
       "    <tr>\n",
       "      <th>1</th>\n",
       "      <td>4</td>\n",
       "      <td>Forest fire near La Ronge Sask. Canada</td>\n",
       "      <td>1</td>\n",
       "    </tr>\n",
       "    <tr>\n",
       "      <th>2</th>\n",
       "      <td>5</td>\n",
       "      <td>All residents asked to 'shelter in place' are ...</td>\n",
       "      <td>1</td>\n",
       "    </tr>\n",
       "    <tr>\n",
       "      <th>3</th>\n",
       "      <td>6</td>\n",
       "      <td>13,000 people receive #wildfires evacuation or...</td>\n",
       "      <td>1</td>\n",
       "    </tr>\n",
       "    <tr>\n",
       "      <th>4</th>\n",
       "      <td>7</td>\n",
       "      <td>Just got sent this photo from Ruby #Alaska as ...</td>\n",
       "      <td>1</td>\n",
       "    </tr>\n",
       "  </tbody>\n",
       "</table>\n",
       "</div>"
      ],
      "text/plain": [
       "   id                                               text  target\n",
       "0   1  Our Deeds are the Reason of this #earthquake M...       1\n",
       "1   4             Forest fire near La Ronge Sask. Canada       1\n",
       "2   5  All residents asked to 'shelter in place' are ...       1\n",
       "3   6  13,000 people receive #wildfires evacuation or...       1\n",
       "4   7  Just got sent this photo from Ruby #Alaska as ...       1"
      ]
     },
     "execution_count": 6,
     "metadata": {},
     "output_type": "execute_result"
    }
   ],
   "source": [
    "train_df.head()"
   ]
  },
  {
   "cell_type": "code",
   "execution_count": 7,
   "id": "32237a7e",
   "metadata": {},
   "outputs": [
    {
     "data": {
      "text/html": [
       "<div>\n",
       "<style scoped>\n",
       "    .dataframe tbody tr th:only-of-type {\n",
       "        vertical-align: middle;\n",
       "    }\n",
       "\n",
       "    .dataframe tbody tr th {\n",
       "        vertical-align: top;\n",
       "    }\n",
       "\n",
       "    .dataframe thead th {\n",
       "        text-align: right;\n",
       "    }\n",
       "</style>\n",
       "<table border=\"1\" class=\"dataframe\">\n",
       "  <thead>\n",
       "    <tr style=\"text-align: right;\">\n",
       "      <th></th>\n",
       "      <th>id</th>\n",
       "      <th>keyword</th>\n",
       "      <th>location</th>\n",
       "      <th>text</th>\n",
       "    </tr>\n",
       "  </thead>\n",
       "  <tbody>\n",
       "    <tr>\n",
       "      <th>0</th>\n",
       "      <td>0</td>\n",
       "      <td>NaN</td>\n",
       "      <td>NaN</td>\n",
       "      <td>Just happened a terrible car crash</td>\n",
       "    </tr>\n",
       "    <tr>\n",
       "      <th>1</th>\n",
       "      <td>2</td>\n",
       "      <td>NaN</td>\n",
       "      <td>NaN</td>\n",
       "      <td>Heard about #earthquake is different cities, s...</td>\n",
       "    </tr>\n",
       "    <tr>\n",
       "      <th>2</th>\n",
       "      <td>3</td>\n",
       "      <td>NaN</td>\n",
       "      <td>NaN</td>\n",
       "      <td>there is a forest fire at spot pond, geese are...</td>\n",
       "    </tr>\n",
       "    <tr>\n",
       "      <th>3</th>\n",
       "      <td>9</td>\n",
       "      <td>NaN</td>\n",
       "      <td>NaN</td>\n",
       "      <td>Apocalypse lighting. #Spokane #wildfires</td>\n",
       "    </tr>\n",
       "    <tr>\n",
       "      <th>4</th>\n",
       "      <td>11</td>\n",
       "      <td>NaN</td>\n",
       "      <td>NaN</td>\n",
       "      <td>Typhoon Soudelor kills 28 in China and Taiwan</td>\n",
       "    </tr>\n",
       "  </tbody>\n",
       "</table>\n",
       "</div>"
      ],
      "text/plain": [
       "   id keyword location                                               text\n",
       "0   0     NaN      NaN                 Just happened a terrible car crash\n",
       "1   2     NaN      NaN  Heard about #earthquake is different cities, s...\n",
       "2   3     NaN      NaN  there is a forest fire at spot pond, geese are...\n",
       "3   9     NaN      NaN           Apocalypse lighting. #Spokane #wildfires\n",
       "4  11     NaN      NaN      Typhoon Soudelor kills 28 in China and Taiwan"
      ]
     },
     "execution_count": 7,
     "metadata": {},
     "output_type": "execute_result"
    }
   ],
   "source": [
    "test_df.head()"
   ]
  },
  {
   "cell_type": "markdown",
   "id": "3ba1aa4d",
   "metadata": {},
   "source": [
    "## EDA"
   ]
  },
  {
   "cell_type": "code",
   "execution_count": 8,
   "id": "e5873abf",
   "metadata": {},
   "outputs": [
    {
     "data": {
      "text/plain": [
       "array([4342, 3271], dtype=int64)"
      ]
     },
     "execution_count": 8,
     "metadata": {},
     "output_type": "execute_result"
    }
   ],
   "source": [
    "balance_counts = train_df.groupby('target')['target'].agg('count').values\n",
    "balance_counts"
   ]
  },
  {
   "cell_type": "code",
   "execution_count": 9,
   "id": "fed60f4a",
   "metadata": {},
   "outputs": [
    {
     "data": {
      "text/plain": [
       "Text(0.5, 1.0, 'Tweet Dataset distribution by target')"
      ]
     },
     "execution_count": 9,
     "metadata": {},
     "output_type": "execute_result"
    },
    {
     "data": {
      "image/png": "[encoded data removed]",
      "text/plain": [
       "<Figure size 432x288 with 1 Axes>"
      ]
     },
     "metadata": {
      "needs_background": "light"
     },
     "output_type": "display_data"
    }
   ],
   "source": [
    "x_plt=train_df.target.value_counts()\n",
    "sns.barplot(x=x_plt.index,y=x_plt)\n",
    "plt.gca().set_ylabel('Count')\n",
    "plt.gca().set_title('Tweet Dataset distribution by target')"
   ]
  },
  {
   "cell_type": "markdown",
   "id": "4d08ed52",
   "metadata": {},
   "source": [
    "## MODELLING"
   ]
  },
  {
   "cell_type": "markdown",
   "id": "3af63cb4",
   "metadata": {},
   "source": [
    "### Data Preparation/Cleaning: GLoVe-LSTM"
   ]
  },
  {
   "cell_type": "code",
   "execution_count": 10,
   "id": "18607ae7",
   "metadata": {},
   "outputs": [],
   "source": [
    "def remove_url(text):\n",
    "    url = re.compile(r'https?://\\S+|www\\.\\S+')\n",
    "    return url.sub(r'', text)\n",
    "\n",
    "\n",
    "def remove_emoji(text):\n",
    "    emoji_pattern = re.compile(\n",
    "        '['\n",
    "        u'\\U0001F600-\\U0001F64F'  # emoticons\n",
    "        u'\\U0001F300-\\U0001F5FF'  # symbols & pictographs\n",
    "        u'\\U0001F680-\\U0001F6FF'  # transport & map symbols\n",
    "        u'\\U0001F1E0-\\U0001F1FF'  # flags (iOS)\n",
    "        u'\\U00002702-\\U000027B0'\n",
    "        u'\\U000024C2-\\U0001F251'\n",
    "        ']+',\n",
    "        flags=re.UNICODE)\n",
    "    return emoji_pattern.sub(r'', text)\n",
    "\n",
    "\n",
    "def remove_html(text):\n",
    "    html = re.compile(r'<.*?>|&([a-z0-9]+|#[0-9]{1,6}|#x[0-9a-f]{1,6});')\n",
    "    return re.sub(html, '', text)\n",
    "\n",
    "# https://www.kaggle.com/tanulsingh077\n",
    "def clean_text(text):\n",
    "    '''Make text lowercase, remove text in square brackets,remove links,remove punctuation\n",
    "    and remove words containing numbers.'''\n",
    "    text = str(text).lower()\n",
    "    text = re.sub('\\[.*?\\]', '', text)\n",
    "    text = re.sub(\n",
    "        'http[s]?://(?:[a-zA-Z]|[0-9]|[$-_@.&+]|[!*\\(\\),]|(?:%[0-9a-fA-F][0-9a-fA-F]))+', \n",
    "        '', \n",
    "        text\n",
    "    )\n",
    "    text = re.sub('https?://\\S+|www\\.\\S+', '', text)\n",
    "    text = re.sub('<.*?>+', '', text)\n",
    "    text = re.sub('[%s]' % re.escape(string.punctuation), '', text)\n",
    "    text = re.sub('\\n', '', text)\n",
    "    text = re.sub('\\w*\\d\\w*', '', text)\n",
    "    \n",
    "    text = remove_url(text)\n",
    "    text = remove_emoji(text)\n",
    "    text = remove_html(text)\n",
    "    \n",
    "    return text\n",
    "\n",
    "def show_metrics(pred_tag, y_test):\n",
    "    print(\"F1-score: \", f1_score(pred_tag, y_test))\n",
    "    print(\"Precision: \", precision_score(pred_tag, y_test))\n",
    "    print(\"Recall: \", recall_score(pred_tag, y_test))\n",
    "    print(\"Acuracy: \", accuracy_score(pred_tag, y_test))\n",
    "    print(\"-\"*50)\n",
    "    print(classification_report(pred_tag, y_test))\n",
    "    \n",
    "def embed(corpus): \n",
    "    return word_tokenizer.texts_to_sequences(corpus)\n",
    "\n",
    "def plot_learning_curves(history, arr):\n",
    "    fig, ax = plt.subplots(1, 2, figsize=(20, 5))\n",
    "    for idx in range(2):\n",
    "        ax[idx].plot(history.history[arr[idx][0]])\n",
    "        ax[idx].plot(history.history[arr[idx][1]])\n",
    "        ax[idx].legend([arr[idx][0], arr[idx][1]],fontsize=18)\n",
    "        ax[idx].set_xlabel('A ',fontsize=16)\n",
    "        ax[idx].set_ylabel('B',fontsize=16)\n",
    "        ax[idx].set_title(arr[idx][0] + ' X ' + arr[idx][1],fontsize=16)\n",
    "\n",
    "stop_words = stopwords.words('english')\n",
    "more_stopwords = ['u', 'im', 'c']\n",
    "stop_words = stop_words + more_stopwords\n",
    "\n",
    "stemmer = nltk.SnowballStemmer(\"english\")        \n",
    "\n",
    "def preprocess_data(text):\n",
    "    # Clean puntuation, urls, and so on\n",
    "    text = clean_text(text)\n",
    "    # Remove stopwords and Stemm all the words in the sentence\n",
    "    text = ' '.join(stemmer.stem(word) for word in text.split(' ') if word not in stop_words)\n",
    "\n",
    "    return text"
   ]
  },
  {
   "cell_type": "code",
   "execution_count": 11,
   "id": "08ed4ce0",
   "metadata": {},
   "outputs": [
    {
     "data": {
      "text/html": [
       "<div>\n",
       "<style scoped>\n",
       "    .dataframe tbody tr th:only-of-type {\n",
       "        vertical-align: middle;\n",
       "    }\n",
       "\n",
       "    .dataframe tbody tr th {\n",
       "        vertical-align: top;\n",
       "    }\n",
       "\n",
       "    .dataframe thead th {\n",
       "        text-align: right;\n",
       "    }\n",
       "</style>\n",
       "<table border=\"1\" class=\"dataframe\">\n",
       "  <thead>\n",
       "    <tr style=\"text-align: right;\">\n",
       "      <th></th>\n",
       "      <th>id</th>\n",
       "      <th>text</th>\n",
       "      <th>target</th>\n",
       "      <th>text_clean</th>\n",
       "    </tr>\n",
       "  </thead>\n",
       "  <tbody>\n",
       "    <tr>\n",
       "      <th>0</th>\n",
       "      <td>1</td>\n",
       "      <td>Our Deeds are the Reason of this #earthquake M...</td>\n",
       "      <td>1</td>\n",
       "      <td>deed reason earthquak may allah forgiv us</td>\n",
       "    </tr>\n",
       "    <tr>\n",
       "      <th>1</th>\n",
       "      <td>4</td>\n",
       "      <td>Forest fire near La Ronge Sask. Canada</td>\n",
       "      <td>1</td>\n",
       "      <td>forest fire near la rong sask canada</td>\n",
       "    </tr>\n",
       "    <tr>\n",
       "      <th>2</th>\n",
       "      <td>5</td>\n",
       "      <td>All residents asked to 'shelter in place' are ...</td>\n",
       "      <td>1</td>\n",
       "      <td>resid ask shelter place notifi offic evacu she...</td>\n",
       "    </tr>\n",
       "    <tr>\n",
       "      <th>3</th>\n",
       "      <td>6</td>\n",
       "      <td>13,000 people receive #wildfires evacuation or...</td>\n",
       "      <td>1</td>\n",
       "      <td>peopl receiv wildfir evacu order california</td>\n",
       "    </tr>\n",
       "    <tr>\n",
       "      <th>4</th>\n",
       "      <td>7</td>\n",
       "      <td>Just got sent this photo from Ruby #Alaska as ...</td>\n",
       "      <td>1</td>\n",
       "      <td>got sent photo rubi alaska smoke wildfir pour ...</td>\n",
       "    </tr>\n",
       "  </tbody>\n",
       "</table>\n",
       "</div>"
      ],
      "text/plain": [
       "   id                                               text  target  \\\n",
       "0   1  Our Deeds are the Reason of this #earthquake M...       1   \n",
       "1   4             Forest fire near La Ronge Sask. Canada       1   \n",
       "2   5  All residents asked to 'shelter in place' are ...       1   \n",
       "3   6  13,000 people receive #wildfires evacuation or...       1   \n",
       "4   7  Just got sent this photo from Ruby #Alaska as ...       1   \n",
       "\n",
       "                                          text_clean  \n",
       "0          deed reason earthquak may allah forgiv us  \n",
       "1               forest fire near la rong sask canada  \n",
       "2  resid ask shelter place notifi offic evacu she...  \n",
       "3       peopl receiv wildfir evacu order california   \n",
       "4  got sent photo rubi alaska smoke wildfir pour ...  "
      ]
     },
     "execution_count": 11,
     "metadata": {},
     "output_type": "execute_result"
    }
   ],
   "source": [
    "test_df['text_clean'] = test_df['text'].apply(preprocess_data)\n",
    "\n",
    "train_df['text_clean'] = train_df['text'].apply(preprocess_data)\n",
    "train_df.head()"
   ]
  },
  {
   "cell_type": "code",
   "execution_count": 12,
   "id": "0f10dbc9",
   "metadata": {},
   "outputs": [],
   "source": [
    "train_tweets = train_df['text_clean'].values\n",
    "test_tweets = test_df['text_clean'].values\n",
    "train_target = train_df['target'].values"
   ]
  },
  {
   "cell_type": "code",
   "execution_count": 13,
   "id": "19915338",
   "metadata": {},
   "outputs": [
    {
     "data": {
      "text/plain": [
       "13704"
      ]
     },
     "execution_count": 13,
     "metadata": {},
     "output_type": "execute_result"
    }
   ],
   "source": [
    "# Calculate the length of our vocabulary\n",
    "word_tokenizer = Tokenizer()\n",
    "word_tokenizer.fit_on_texts(train_tweets)\n",
    "\n",
    "vocab_length = len(word_tokenizer.word_index) + 1\n",
    "vocab_length"
   ]
  },
  {
   "cell_type": "code",
   "execution_count": 14,
   "id": "77892ddc",
   "metadata": {},
   "outputs": [
    {
     "data": {
      "text/plain": [
       "array([[3635,  467,  201, ...,    0,    0,    0],\n",
       "       [ 136,    2,  106, ...,    0,    0,    0],\n",
       "       [1338,  502, 1807, ...,    0,    0,    0],\n",
       "       ...,\n",
       "       [ 448, 1328,    0, ...,    0,    0,    0],\n",
       "       [  28,  162, 2637, ...,    0,    0,    0],\n",
       "       [ 171,   31,  413, ...,    0,    0,    0]])"
      ]
     },
     "execution_count": 14,
     "metadata": {},
     "output_type": "execute_result"
    }
   ],
   "source": [
    "longest_train = max(train_tweets, key=lambda sentence: len(word_tokenize(sentence)))\n",
    "length_long_sentence = len(word_tokenize(longest_train))\n",
    "\n",
    "train_padded_sentences = pad_sequences(\n",
    "    embed(train_tweets), \n",
    "    length_long_sentence, \n",
    "    padding='post'\n",
    ")\n",
    "\n",
    "test_padded_sentences = pad_sequences(\n",
    "    embed(test_tweets), \n",
    "    length_long_sentence,\n",
    "    padding='post'\n",
    ")\n",
    "\n",
    "train_padded_sentences"
   ]
  },
  {
   "cell_type": "code",
   "execution_count": 15,
   "id": "74a14fe2",
   "metadata": {},
   "outputs": [],
   "source": [
    "# Split data into train and test sets\n",
    "X_train, X_val, y_train, y_val = train_test_split(\n",
    "    train_padded_sentences, \n",
    "    train_target, \n",
    "    test_size=0.25\n",
    ")"
   ]
  },
  {
   "cell_type": "markdown",
   "id": "f297c249",
   "metadata": {},
   "source": [
    "### Model: GLoVe-LSTM"
   ]
  },
  {
   "cell_type": "code",
   "execution_count": 16,
   "id": "d2887a82",
   "metadata": {},
   "outputs": [],
   "source": [
    "embeddings_dictionary = dict()\n",
    "embedding_dim = 100\n",
    "\n",
    "# Load GloVe 100D embeddings\n",
    "with open('glove.6B.100d.txt', encoding=\"utf8\") as fp:\n",
    "    for line in fp.readlines():\n",
    "        records = line.split()\n",
    "        word = records[0]\n",
    "        vector_dimensions = np.asarray(records[1:], dtype='float32')\n",
    "        embeddings_dictionary [word] = vector_dimensions"
   ]
  },
  {
   "cell_type": "code",
   "execution_count": 17,
   "id": "e9aec7ab",
   "metadata": {},
   "outputs": [
    {
     "data": {
      "text/plain": [
       "array([[ 0.        ,  0.        ,  0.        , ...,  0.        ,\n",
       "         0.        ,  0.        ],\n",
       "       [-0.2687    ,  0.81708002,  0.69896001, ..., -0.40110001,\n",
       "         0.74656999,  0.31121999],\n",
       "       [-0.26872   , -0.15542001, -0.23565   , ...,  0.49344   ,\n",
       "         0.72114003, -0.041749  ],\n",
       "       ...,\n",
       "       [ 0.        ,  0.        ,  0.        , ...,  0.        ,\n",
       "         0.        ,  0.        ],\n",
       "       [ 0.19814   , -0.33517   , -0.13950001, ..., -0.070356  ,\n",
       "        -0.18391   ,  0.62439001],\n",
       "       [-0.34132001,  0.26423001,  0.47813001, ..., -0.92395002,\n",
       "         0.48275   ,  0.52947998]])"
      ]
     },
     "execution_count": 17,
     "metadata": {},
     "output_type": "execute_result"
    }
   ],
   "source": [
    "embedding_matrix = np.zeros((vocab_length, embedding_dim))\n",
    "\n",
    "for word, index in word_tokenizer.word_index.items():\n",
    "    embedding_vector = embeddings_dictionary.get(word)\n",
    "    if embedding_vector is not None:\n",
    "        embedding_matrix[index] = embedding_vector\n",
    "        \n",
    "embedding_matrix"
   ]
  },
  {
   "cell_type": "code",
   "execution_count": 18,
   "id": "fadd4566",
   "metadata": {},
   "outputs": [
    {
     "name": "stdout",
     "output_type": "stream",
     "text": [
      "WARNING:tensorflow:Layer lstm will not use cuDNN kernels since it doesn't meet the criteria. It will use a generic GPU kernel as fallback when running on GPU.\n",
      "WARNING:tensorflow:Layer lstm will not use cuDNN kernels since it doesn't meet the criteria. It will use a generic GPU kernel as fallback when running on GPU.\n",
      "WARNING:tensorflow:Layer lstm will not use cuDNN kernels since it doesn't meet the criteria. It will use a generic GPU kernel as fallback when running on GPU.\n",
      "Model: \"sequential\"\n",
      "_________________________________________________________________\n",
      " Layer (type)                Output Shape              Param #   \n",
      "=================================================================\n",
      " embedding (Embedding)       (None, 23, 100)           1370400   \n",
      "                                                                 \n",
      " bidirectional (Bidirectiona  (None, 23, 46)           22816     \n",
      " l)                                                              \n",
      "                                                                 \n",
      " global_max_pooling1d (Globa  (None, 46)               0         \n",
      " lMaxPooling1D)                                                  \n",
      "                                                                 \n",
      " batch_normalization (BatchN  (None, 46)               184       \n",
      " ormalization)                                                   \n",
      "                                                                 \n",
      " dropout (Dropout)           (None, 46)                0         \n",
      "                                                                 \n",
      " dense (Dense)               (None, 23)                1081      \n",
      "                                                                 \n",
      " dropout_1 (Dropout)         (None, 23)                0         \n",
      "                                                                 \n",
      " dense_1 (Dense)             (None, 23)                552       \n",
      "                                                                 \n",
      " dropout_2 (Dropout)         (None, 23)                0         \n",
      "                                                                 \n",
      " dense_2 (Dense)             (None, 1)                 24        \n",
      "                                                                 \n",
      "=================================================================\n",
      "Total params: 1,395,057\n",
      "Trainable params: 1,394,965\n",
      "Non-trainable params: 92\n",
      "_________________________________________________________________\n"
     ]
    }
   ],
   "source": [
    "# https://www.kaggle.com/mariapushkareva/nlp-disaster-tweets-with-glove-and-lstm/data\n",
    "def glove_lstm():\n",
    "    model = Sequential()\n",
    "    \n",
    "    model.add(Embedding(\n",
    "        input_dim=embedding_matrix.shape[0], \n",
    "        output_dim=embedding_matrix.shape[1], \n",
    "        weights = [embedding_matrix], \n",
    "        input_length=length_long_sentence\n",
    "    ))\n",
    "    \n",
    "    model.add(Bidirectional(LSTM(\n",
    "        length_long_sentence, \n",
    "        return_sequences = True, \n",
    "        recurrent_dropout=0.2\n",
    "    )))\n",
    "    \n",
    "    model.add(GlobalMaxPool1D())\n",
    "    model.add(BatchNormalization())\n",
    "    model.add(Dropout(0.5))\n",
    "    model.add(Dense(length_long_sentence, activation = \"relu\"))\n",
    "    model.add(Dropout(0.5))\n",
    "    model.add(Dense(length_long_sentence, activation = \"relu\"))\n",
    "    model.add(Dropout(0.5))\n",
    "    model.add(Dense(1, activation = 'sigmoid'))\n",
    "    model.compile(optimizer='rmsprop', loss='binary_crossentropy', metrics=['accuracy'])\n",
    "    \n",
    "    return model\n",
    "\n",
    "model = glove_lstm()\n",
    "model.summary()"
   ]
  },
  {
   "cell_type": "code",
   "execution_count": 19,
   "id": "3d03b3a5",
   "metadata": {},
   "outputs": [],
   "source": [
    "model_glove_lstm_filename = 'model_glove_lstm.h5'"
   ]
  },
  {
   "cell_type": "code",
   "execution_count": 20,
   "id": "c904b8d9",
   "metadata": {},
   "outputs": [
    {
     "name": "stdout",
     "output_type": "stream",
     "text": [
      "WARNING:tensorflow:Layer lstm_1 will not use cuDNN kernels since it doesn't meet the criteria. It will use a generic GPU kernel as fallback when running on GPU.\n",
      "WARNING:tensorflow:Layer lstm_1 will not use cuDNN kernels since it doesn't meet the criteria. It will use a generic GPU kernel as fallback when running on GPU.\n",
      "WARNING:tensorflow:Layer lstm_1 will not use cuDNN kernels since it doesn't meet the criteria. It will use a generic GPU kernel as fallback when running on GPU.\n",
      "Epoch 1/10\n",
      "179/179 [==============================] - ETA: 0s - loss: 0.8012 - accuracy: 0.5493\n",
      "Epoch 1: val_loss improved from inf to 0.67112, saving model to model_glove_lstm.h5\n",
      "179/179 [==============================] - 84s 435ms/step - loss: 0.8012 - accuracy: 0.5493 - val_loss: 0.6711 - val_accuracy: 0.6675 - lr: 0.0010\n",
      "Epoch 2/10\n",
      "179/179 [==============================] - ETA: 0s - loss: 0.6498 - accuracy: 0.6484\n",
      "Epoch 2: val_loss improved from 0.67112 to 0.59474, saving model to model_glove_lstm.h5\n",
      "179/179 [==============================] - 85s 474ms/step - loss: 0.6498 - accuracy: 0.6484 - val_loss: 0.5947 - val_accuracy: 0.7710 - lr: 0.0010\n",
      "Epoch 3/10\n",
      "179/179 [==============================] - ETA: 0s - loss: 0.5842 - accuracy: 0.7033\n",
      "Epoch 3: val_loss improved from 0.59474 to 0.49720, saving model to model_glove_lstm.h5\n",
      "179/179 [==============================] - 93s 521ms/step - loss: 0.5842 - accuracy: 0.7033 - val_loss: 0.4972 - val_accuracy: 0.7899 - lr: 0.0010\n",
      "Epoch 4/10\n",
      "179/179 [==============================] - ETA: 0s - loss: 0.5345 - accuracy: 0.7548\n",
      "Epoch 4: val_loss improved from 0.49720 to 0.46525, saving model to model_glove_lstm.h5\n",
      "179/179 [==============================] - 95s 530ms/step - loss: 0.5345 - accuracy: 0.7548 - val_loss: 0.4652 - val_accuracy: 0.8015 - lr: 0.0010\n",
      "Epoch 5/10\n",
      "179/179 [==============================] - ETA: 0s - loss: 0.4902 - accuracy: 0.7812\n",
      "Epoch 5: val_loss improved from 0.46525 to 0.45014, saving model to model_glove_lstm.h5\n",
      "179/179 [==============================] - 83s 463ms/step - loss: 0.4902 - accuracy: 0.7812 - val_loss: 0.4501 - val_accuracy: 0.8030 - lr: 0.0010\n",
      "Epoch 6/10\n",
      "179/179 [==============================] - ETA: 0s - loss: 0.4621 - accuracy: 0.8064\n",
      "Epoch 6: val_loss improved from 0.45014 to 0.44882, saving model to model_glove_lstm.h5\n",
      "179/179 [==============================] - 78s 435ms/step - loss: 0.4621 - accuracy: 0.8064 - val_loss: 0.4488 - val_accuracy: 0.8093 - lr: 0.0010\n",
      "Epoch 7/10\n",
      "179/179 [==============================] - ETA: 0s - loss: 0.4196 - accuracy: 0.8322\n",
      "Epoch 7: val_loss improved from 0.44882 to 0.44017, saving model to model_glove_lstm.h5\n",
      "179/179 [==============================] - 78s 433ms/step - loss: 0.4196 - accuracy: 0.8322 - val_loss: 0.4402 - val_accuracy: 0.8057 - lr: 0.0010\n",
      "Epoch 8/10\n",
      "179/179 [==============================] - ETA: 0s - loss: 0.4035 - accuracy: 0.8418\n",
      "Epoch 8: val_loss did not improve from 0.44017\n",
      "179/179 [==============================] - 77s 432ms/step - loss: 0.4035 - accuracy: 0.8418 - val_loss: 0.4738 - val_accuracy: 0.8062 - lr: 0.0010\n",
      "Epoch 9/10\n",
      "179/179 [==============================] - ETA: 0s - loss: 0.3702 - accuracy: 0.8597\n",
      "Epoch 9: val_loss did not improve from 0.44017\n",
      "179/179 [==============================] - 77s 432ms/step - loss: 0.3702 - accuracy: 0.8597 - val_loss: 0.4667 - val_accuracy: 0.8146 - lr: 0.0010\n",
      "Epoch 10/10\n",
      "179/179 [==============================] - ETA: 0s - loss: 0.3399 - accuracy: 0.8734\n",
      "Epoch 10: val_loss did not improve from 0.44017\n",
      "179/179 [==============================] - 77s 429ms/step - loss: 0.3399 - accuracy: 0.8734 - val_loss: 0.4845 - val_accuracy: 0.8109 - lr: 0.0010\n"
     ]
    }
   ],
   "source": [
    "model_glove_lstm = glove_lstm()\n",
    "\n",
    "checkpoint = ModelCheckpoint(\n",
    "    model_glove_lstm_filename, \n",
    "    monitor = 'val_loss', \n",
    "    verbose = 1, \n",
    "    save_best_only = True\n",
    ")\n",
    "\n",
    "reduce_lr = ReduceLROnPlateau(\n",
    "    monitor = 'val_loss', \n",
    "    factor = 0.2, \n",
    "    verbose = 1, \n",
    "    patience = 5,\n",
    "    min_lr = 0.001\n",
    ")\n",
    "\n",
    "history_glove_lstm = model_glove_lstm.fit(\n",
    "    X_train, \n",
    "    y_train, \n",
    "    epochs = 10,\n",
    "    batch_size = 32,\n",
    "    validation_data = (X_val, y_val),\n",
    "    verbose = 1,\n",
    "    callbacks = [reduce_lr, checkpoint]\n",
    ")"
   ]
  },
  {
   "cell_type": "code",
   "execution_count": 22,
   "id": "8511e602",
   "metadata": {},
   "outputs": [
    {
     "data": {
      "image/png": "[encoded data removed]",
      "text/plain": [
       "<Figure size 1440x360 with 2 Axes>"
      ]
     },
     "metadata": {
      "needs_background": "light"
     },
     "output_type": "display_data"
    }
   ],
   "source": [
    "plot_learning_curves(history_glove_lstm, [['loss', 'val_loss'],['accuracy', 'val_accuracy']])"
   ]
  },
  {
   "cell_type": "code",
   "execution_count": 23,
   "id": "01b24406",
   "metadata": {},
   "outputs": [
    {
     "name": "stdout",
     "output_type": "stream",
     "text": [
      "WARNING:tensorflow:Layer lstm_1 will not use cuDNN kernels since it doesn't meet the criteria. It will use a generic GPU kernel as fallback when running on GPU.\n",
      "WARNING:tensorflow:Layer lstm_1 will not use cuDNN kernels since it doesn't meet the criteria. It will use a generic GPU kernel as fallback when running on GPU.\n",
      "WARNING:tensorflow:Layer lstm_1 will not use cuDNN kernels since it doesn't meet the criteria. It will use a generic GPU kernel as fallback when running on GPU.\n",
      "Model: \"sequential_1\"\n",
      "_________________________________________________________________\n",
      " Layer (type)                Output Shape              Param #   \n",
      "=================================================================\n",
      " embedding_1 (Embedding)     (None, 23, 100)           1370400   \n",
      "                                                                 \n",
      " bidirectional_1 (Bidirectio  (None, 23, 46)           22816     \n",
      " nal)                                                            \n",
      "                                                                 \n",
      " global_max_pooling1d_1 (Glo  (None, 46)               0         \n",
      " balMaxPooling1D)                                                \n",
      "                                                                 \n",
      " batch_normalization_1 (Batc  (None, 46)               184       \n",
      " hNormalization)                                                 \n",
      "                                                                 \n",
      " dropout_3 (Dropout)         (None, 46)                0         \n",
      "                                                                 \n",
      " dense_3 (Dense)             (None, 23)                1081      \n",
      "                                                                 \n",
      " dropout_4 (Dropout)         (None, 23)                0         \n",
      "                                                                 \n",
      " dense_4 (Dense)             (None, 23)                552       \n",
      "                                                                 \n",
      " dropout_5 (Dropout)         (None, 23)                0         \n",
      "                                                                 \n",
      " dense_5 (Dense)             (None, 1)                 24        \n",
      "                                                                 \n",
      "=================================================================\n",
      "Total params: 1,395,057\n",
      "Trainable params: 1,394,965\n",
      "Non-trainable params: 92\n",
      "_________________________________________________________________\n"
     ]
    }
   ],
   "source": [
    "model_glove_lstm_final = load_model(model_glove_lstm_filename)\n",
    "model_glove_lstm_final.summary()"
   ]
  },
  {
   "cell_type": "code",
   "execution_count": 24,
   "id": "101fd77b",
   "metadata": {},
   "outputs": [
    {
     "name": "stdout",
     "output_type": "stream",
     "text": [
      "60/60 [==============================] - 3s 45ms/step\n"
     ]
    }
   ],
   "source": [
    "y_pred_glove_lstm = (model_glove_lstm_final.predict(X_val) > 0.5).astype(\"int32\")"
   ]
  },
  {
   "cell_type": "code",
   "execution_count": 25,
   "id": "01887460",
   "metadata": {},
   "outputs": [
    {
     "name": "stdout",
     "output_type": "stream",
     "text": [
      "confusion matrix:\n",
      " [[1030   70]\n",
      " [ 300  504]]\n",
      "              precision    recall  f1-score   support\n",
      "\n",
      "           0       0.77      0.94      0.85      1100\n",
      "           1       0.88      0.63      0.73       804\n",
      "\n",
      "    accuracy                           0.81      1904\n",
      "   macro avg       0.83      0.78      0.79      1904\n",
      "weighted avg       0.82      0.81      0.80      1904\n",
      "\n"
     ]
    }
   ],
   "source": [
    "cm = confusion_matrix(y_val,y_pred_glove_lstm)\n",
    "print('confusion matrix:\\n',cm)\n",
    "print(classification_report(y_val, y_pred_glove_lstm))"
   ]
  },
  {
   "cell_type": "markdown",
   "id": "7f7e6219",
   "metadata": {},
   "source": [
    "### Submission: GLoVe-LSTM"
   ]
  },
  {
   "cell_type": "code",
   "execution_count": 26,
   "id": "0a3515fd",
   "metadata": {},
   "outputs": [
    {
     "name": "stdout",
     "output_type": "stream",
     "text": [
      "102/102 [==============================] - 4s 44ms/step\n"
     ]
    }
   ],
   "source": [
    "y_glove_lstm = (model_glove_lstm_final.predict(test_padded_sentences) > 0.5).astype(\"int32\")"
   ]
  },
  {
   "cell_type": "code",
   "execution_count": 28,
   "id": "38eea75e",
   "metadata": {},
   "outputs": [],
   "source": [
    "y_labels = []\n",
    "for i in range (0, len(y_glove_lstm)):\n",
    "    y_labels.append(y_glove_lstm[i][0])"
   ]
  },
  {
   "cell_type": "code",
   "execution_count": 29,
   "id": "fa58e70c",
   "metadata": {},
   "outputs": [],
   "source": [
    "# create submission file\n",
    "submission_glove_lstm = pd.DataFrame({\"id\": (test_df['id']),\"target\": y_labels})\n",
    "submission_glove_lstm.to_csv('submission_glove_lstm.csv', index=False)"
   ]
  },
  {
   "attachments": {
    "image01-glove-lstm.jpg": {
     "image/jpeg": "[encoded data removed]"
    }
   },
   "cell_type": "markdown",
   "id": "e20befad",
   "metadata": {},
   "source": [
    "![image01-glove-lstm.jpg](attachment:image01-glove-lstm.jpg)"
   ]
  },
  {
   "cell_type": "markdown",
   "id": "1647b93f",
   "metadata": {},
   "source": [
    "### Model: BERT"
   ]
  },
  {
   "cell_type": "code",
   "execution_count": 47,
   "id": "e38ac940",
   "metadata": {},
   "outputs": [],
   "source": [
    "train_bert = pd.read_csv(\"train.csv\")\n",
    "test_bert = pd.read_csv(\"test.csv\")"
   ]
  },
  {
   "cell_type": "code",
   "execution_count": 48,
   "id": "179b8a2a",
   "metadata": {},
   "outputs": [],
   "source": [
    "BERT_MODEL_NAME = 'bert-base-uncased'"
   ]
  },
  {
   "cell_type": "code",
   "execution_count": 49,
   "id": "c288d6cc",
   "metadata": {},
   "outputs": [],
   "source": [
    "bert_tokenizer = BertTokenizer.from_pretrained(BERT_MODEL_NAME, do_lower_case=True)\n",
    "\n",
    "def bert_encode(data,maximum_length) :\n",
    "    input_ids = []\n",
    "    attention_masks = []\n",
    "\n",
    "    for i in range(len(data.text)):\n",
    "        encoded = bert_tokenizer.encode_plus(\n",
    "            data.text[i],\n",
    "            add_special_tokens=True,\n",
    "            max_length=maximum_length,\n",
    "            pad_to_max_length=True,\n",
    "            return_attention_mask=True,\n",
    "        )\n",
    "        input_ids.append(encoded['input_ids'])\n",
    "        attention_masks.append(encoded['attention_mask'])\n",
    "\n",
    "    return np.array(input_ids),np.array(attention_masks)"
   ]
  },
  {
   "cell_type": "code",
   "execution_count": 50,
   "id": "e0f71be8",
   "metadata": {},
   "outputs": [
    {
     "name": "stderr",
     "output_type": "stream",
     "text": [
      "Truncation was not explicitly activated but `max_length` is provided a specific value, please use `truncation=True` to explicitly truncate examples to max length. Defaulting to 'longest_first' truncation strategy. If you encode pairs of sequences (GLUE-style) with the tokenizer you can select this strategy more precisely by providing a specific strategy to `truncation`.\n",
      "C:\\Users\\Reed\\anaconda3\\lib\\site-packages\\transformers\\tokenization_utils_base.py:2285: FutureWarning: The `pad_to_max_length` argument is deprecated and will be removed in a future version, use `padding=True` or `padding='longest'` to pad to the longest sequence in the batch, or use `padding='max_length'` to pad to a max length. In this case, you can give a specific length with `max_length` (e.g. `max_length=45`) or leave max_length to None to pad to the maximal input size of the model (e.g. 512 for Bert).\n",
      "  warnings.warn(\n"
     ]
    }
   ],
   "source": [
    "train_input_ids,train_attention_masks = bert_encode(train_bert,60)\n",
    "test_input_ids,test_attention_masks = bert_encode(test_bert,60)"
   ]
  },
  {
   "cell_type": "code",
   "execution_count": 51,
   "id": "5809bfb0",
   "metadata": {},
   "outputs": [],
   "source": [
    "def create_model(bert_model):\n",
    "    input_ids = Input(shape=(60,),dtype='int32')\n",
    "    attention_masks = Input(shape=(60,),dtype='int32')\n",
    "    output = bert_model([input_ids,attention_masks])\n",
    "    output = output[1]\n",
    "    output = Dense(32,activation='relu')(output)\n",
    "    output = Dropout(0.2)(output)\n",
    "    output = Dense(1,activation='sigmoid')(output)\n",
    "    model = Model(inputs = [input_ids,attention_masks],outputs = output)\n",
    "    model.compile(Adam(learning_rate=6e-6), loss='binary_crossentropy', metrics=['accuracy'])\n",
    "    return model"
   ]
  },
  {
   "cell_type": "code",
   "execution_count": 52,
   "id": "1e3271d3",
   "metadata": {},
   "outputs": [
    {
     "name": "stderr",
     "output_type": "stream",
     "text": [
      "Some layers from the model checkpoint at bert-base-uncased were not used when initializing TFBertModel: ['nsp___cls', 'mlm___cls']\n",
      "- This IS expected if you are initializing TFBertModel from the checkpoint of a model trained on another task or with another architecture (e.g. initializing a BertForSequenceClassification model from a BertForPreTraining model).\n",
      "- This IS NOT expected if you are initializing TFBertModel from the checkpoint of a model that you expect to be exactly identical (initializing a BertForSequenceClassification model from a BertForSequenceClassification model).\n",
      "All the layers of TFBertModel were initialized from the model checkpoint at bert-base-uncased.\n",
      "If your task is similar to the task the model of the checkpoint was trained on, you can already use TFBertModel for predictions without further training.\n"
     ]
    }
   ],
   "source": [
    "bert_model_pretrained = TFBertModel.from_pretrained(BERT_MODEL_NAME)"
   ]
  },
  {
   "cell_type": "code",
   "execution_count": 53,
   "id": "cf5a54df",
   "metadata": {},
   "outputs": [
    {
     "name": "stdout",
     "output_type": "stream",
     "text": [
      "Model: \"model_1\"\n",
      "__________________________________________________________________________________________________\n",
      " Layer (type)                   Output Shape         Param #     Connected to                     \n",
      "==================================================================================================\n",
      " input_3 (InputLayer)           [(None, 60)]         0           []                               \n",
      "                                                                                                  \n",
      " input_4 (InputLayer)           [(None, 60)]         0           []                               \n",
      "                                                                                                  \n",
      " tf_bert_model_1 (TFBertModel)  TFBaseModelOutputWi  109482240   ['input_3[0][0]',                \n",
      "                                thPoolingAndCrossAt               'input_4[0][0]']                \n",
      "                                tentions(last_hidde                                               \n",
      "                                n_state=(None, 60,                                                \n",
      "                                768),                                                             \n",
      "                                 pooler_output=(Non                                               \n",
      "                                e, 768),                                                          \n",
      "                                 past_key_values=No                                               \n",
      "                                ne, hidden_states=N                                               \n",
      "                                one, attentions=Non                                               \n",
      "                                e, cross_attentions                                               \n",
      "                                =None)                                                            \n",
      "                                                                                                  \n",
      " dense_8 (Dense)                (None, 32)           24608       ['tf_bert_model_1[0][1]']        \n",
      "                                                                                                  \n",
      " dropout_81 (Dropout)           (None, 32)           0           ['dense_8[0][0]']                \n",
      "                                                                                                  \n",
      " dense_9 (Dense)                (None, 1)            33          ['dropout_81[0][0]']             \n",
      "                                                                                                  \n",
      "==================================================================================================\n",
      "Total params: 109,506,881\n",
      "Trainable params: 109,506,881\n",
      "Non-trainable params: 0\n",
      "__________________________________________________________________________________________________\n"
     ]
    }
   ],
   "source": [
    "model_bert = create_model(bert_model_pretrained)\n",
    "model_bert.summary()"
   ]
  },
  {
   "cell_type": "code",
   "execution_count": 55,
   "id": "fdca01ad",
   "metadata": {},
   "outputs": [
    {
     "name": "stdout",
     "output_type": "stream",
     "text": [
      "Epoch 1/10\n",
      "609/609 [==============================] - 83s 120ms/step - loss: 0.4809 - accuracy: 0.7831 - val_loss: 0.4013 - val_accuracy: 0.8207\n",
      "Epoch 2/10\n",
      "609/609 [==============================] - 69s 113ms/step - loss: 0.3727 - accuracy: 0.8501 - val_loss: 0.3930 - val_accuracy: 0.8372\n",
      "Epoch 3/10\n",
      "609/609 [==============================] - 69s 113ms/step - loss: 0.3218 - accuracy: 0.8770 - val_loss: 0.3755 - val_accuracy: 0.8378\n",
      "Epoch 4/10\n",
      "609/609 [==============================] - 69s 113ms/step - loss: 0.2633 - accuracy: 0.9048 - val_loss: 0.4217 - val_accuracy: 0.8372\n",
      "Epoch 5/10\n",
      "609/609 [==============================] - 69s 113ms/step - loss: 0.2130 - accuracy: 0.9309 - val_loss: 0.4912 - val_accuracy: 0.8280\n",
      "Epoch 6/10\n",
      "609/609 [==============================] - 69s 113ms/step - loss: 0.1684 - accuracy: 0.9414 - val_loss: 0.6260 - val_accuracy: 0.8089\n",
      "Epoch 7/10\n",
      "609/609 [==============================] - 69s 113ms/step - loss: 0.1361 - accuracy: 0.9560 - val_loss: 0.6154 - val_accuracy: 0.8253\n",
      "Epoch 8/10\n",
      "609/609 [==============================] - 68s 112ms/step - loss: 0.1188 - accuracy: 0.9649 - val_loss: 0.5923 - val_accuracy: 0.8286\n",
      "Epoch 9/10\n",
      "609/609 [==============================] - 69s 113ms/step - loss: 0.1011 - accuracy: 0.9668 - val_loss: 0.6201 - val_accuracy: 0.8359\n",
      "Epoch 10/10\n",
      "609/609 [==============================] - 69s 113ms/step - loss: 0.0827 - accuracy: 0.9722 - val_loss: 0.6509 - val_accuracy: 0.8391\n"
     ]
    }
   ],
   "source": [
    "history_bert = model_bert.fit(\n",
    "    [train_input_ids,train_attention_masks],\n",
    "    train_bert['target'],\n",
    "    validation_split=0.2,\n",
    "    epochs=10,\n",
    "    batch_size=10,\n",
    "    verbose=1)"
   ]
  },
  {
   "cell_type": "code",
   "execution_count": 56,
   "id": "64783f41",
   "metadata": {},
   "outputs": [
    {
     "data": {
      "image/png": "[encoded data removed]",
      "text/plain": [
       "<Figure size 1440x360 with 2 Axes>"
      ]
     },
     "metadata": {
      "needs_background": "light"
     },
     "output_type": "display_data"
    }
   ],
   "source": [
    "plot_learning_curves(history_bert, [['loss', 'val_loss'],['accuracy', 'val_accuracy']])"
   ]
  },
  {
   "cell_type": "markdown",
   "id": "01de835b",
   "metadata": {},
   "source": [
    "### Submission: BERT"
   ]
  },
  {
   "cell_type": "code",
   "execution_count": 57,
   "id": "e4be5df0",
   "metadata": {},
   "outputs": [
    {
     "name": "stdout",
     "output_type": "stream",
     "text": [
      "102/102 [==============================] - 11s 82ms/step\n"
     ]
    },
    {
     "data": {
      "text/html": [
       "<div>\n",
       "<style scoped>\n",
       "    .dataframe tbody tr th:only-of-type {\n",
       "        vertical-align: middle;\n",
       "    }\n",
       "\n",
       "    .dataframe tbody tr th {\n",
       "        vertical-align: top;\n",
       "    }\n",
       "\n",
       "    .dataframe thead th {\n",
       "        text-align: right;\n",
       "    }\n",
       "</style>\n",
       "<table border=\"1\" class=\"dataframe\">\n",
       "  <thead>\n",
       "    <tr style=\"text-align: right;\">\n",
       "      <th></th>\n",
       "      <th>id</th>\n",
       "      <th>target</th>\n",
       "    </tr>\n",
       "  </thead>\n",
       "  <tbody>\n",
       "    <tr>\n",
       "      <th>0</th>\n",
       "      <td>0</td>\n",
       "      <td>1</td>\n",
       "    </tr>\n",
       "    <tr>\n",
       "      <th>1</th>\n",
       "      <td>2</td>\n",
       "      <td>1</td>\n",
       "    </tr>\n",
       "    <tr>\n",
       "      <th>2</th>\n",
       "      <td>3</td>\n",
       "      <td>1</td>\n",
       "    </tr>\n",
       "    <tr>\n",
       "      <th>3</th>\n",
       "      <td>9</td>\n",
       "      <td>1</td>\n",
       "    </tr>\n",
       "    <tr>\n",
       "      <th>4</th>\n",
       "      <td>11</td>\n",
       "      <td>1</td>\n",
       "    </tr>\n",
       "  </tbody>\n",
       "</table>\n",
       "</div>"
      ],
      "text/plain": [
       "   id  target\n",
       "0   0       1\n",
       "1   2       1\n",
       "2   3       1\n",
       "3   9       1\n",
       "4  11       1"
      ]
     },
     "execution_count": 57,
     "metadata": {},
     "output_type": "execute_result"
    }
   ],
   "source": [
    "y_bert = model_bert.predict([test_input_ids,test_attention_masks])\n",
    "\n",
    "submission_bert = pd.read_csv('sample_submission.csv')\n",
    "submission_bert['target'] = np.round(y_bert).astype(int)\n",
    "submission_bert.to_csv('submission_bert.csv',index=False)\n",
    "submission_bert.head()"
   ]
  },
  {
   "attachments": {
    "image02-bert-2.jpg": {
     "image/jpeg": "[encoded data removed]"
    }
   },
   "cell_type": "markdown",
   "id": "e6077871",
   "metadata": {},
   "source": [
    "![image02-bert-2.jpg](attachment:image02-bert-2.jpg)"
   ]
  },
  {
   "cell_type": "code",
   "execution_count": null,
   "id": "bb4b696d",
   "metadata": {},
   "outputs": [],
   "source": []
  },
  {
   "cell_type": "markdown",
   "id": "23e7f567",
   "metadata": {},
   "source": [
    "## CONCLUSION"
   ]
  },
  {
   "cell_type": "markdown",
   "id": "edef3545",
   "metadata": {},
   "source": [
    "The base BERT model performed about 2% better than the GLoVe 100D model using the Kaggle test dataset. I would like to see how much improvement there would be if I used the large BERT and GLoVe 300D models but I am limited by my local machine capabilities and hardware."
   ]
  },
  {
   "cell_type": "code",
   "execution_count": null,
   "id": "328e2aea",
   "metadata": {},
   "outputs": [],
   "source": []
  }
 ],
 "metadata": {
  "kernelspec": {
   "display_name": "Python 3 (ipykernel)",
   "language": "python",
   "name": "python3"
  },
  "language_info": {
   "codemirror_mode": {
    "name": "ipython",
    "version": 3
   },
   "file_extension": ".py",
   "mimetype": "text/x-python",
   "name": "python",
   "nbconvert_exporter": "python",
   "pygments_lexer": "ipython3",
   "version": "3.9.12"
  }
 },
 "nbformat": 4,
 "nbformat_minor": 5
}
