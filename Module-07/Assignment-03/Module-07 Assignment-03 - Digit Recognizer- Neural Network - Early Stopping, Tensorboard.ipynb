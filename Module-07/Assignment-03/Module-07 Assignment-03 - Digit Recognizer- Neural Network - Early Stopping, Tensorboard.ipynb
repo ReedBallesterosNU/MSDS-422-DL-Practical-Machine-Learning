{
 "cells": [
  {
   "cell_type": "markdown",
   "id": "77936794",
   "metadata": {},
   "source": [
    "# Module 7 Assignment 3: Digit Recognizer"
   ]
  },
  {
   "cell_type": "markdown",
   "id": "1f22b91e",
   "metadata": {},
   "source": [
    "**Reed Ballesteros**\n",
    "\n",
    "**MSDS-422**\n",
    "\n",
    "**5/15/2022**\n",
    "\n",
    "**Instructor: Prof. Noah Gift**"
   ]
  },
  {
   "cell_type": "markdown",
   "id": "82a6de3b",
   "metadata": {},
   "source": [
    "# Digit Recognizer (https://www.kaggle.com/c/digit-recognizer) \n",
    "\n",
    "### Background Materials\n",
    "This week, you will compete in the classic MNIST Digit Recognizer (Links to an external site.) competition using neural networks.\n",
    "\n",
    "### Management/Research Question\n",
    "In layman’s terms, what is the management/research question of interest, and why would anyone care?  \n",
    "\n",
    "### Requirements\n",
    "- Conduct your analysis using a cross-validation design.\n",
    "- Conduct / refine EDA.\n",
    "- Conduct Design of Experiments to evaluate the performance of various neural networks by changing the layers and nodes. Tested neural network structures should be explored within a benchmark experiment, a 2x2 completely crossed design. An example of a completely crossed designed with {2, 5} layers and {10,20} nodes follows.\n",
    "\n",
    "Layers| Nodes| Time| Training Accuracy| Testing Accuracy\n",
    "---|---|---|---|---\n",
    "2| 10| 63.61| 0.935| 0.927\n",
    "2| 20| 115.25| 0.967| 0.952\n",
    "5| 10| 74.28| 0.944| 0.933\n",
    "5| 20| 75.1| 0.964| 0.952\n",
    "\n",
    "-  Due to the time required to fit each neural network, we will observe only one trial for each cell in the design. \n",
    "- You will build your models on csv and submit your forecasts for test.csv to Kaggle.com, providing your name and user ID for each experimental trial. \n",
    "- Evaluate goodness of fit metrics on the training and validation sets.\n",
    "- Provide a multi-class confusion matrix.\n",
    "- Discuss how your models performed.\n",
    "\n",
    "In summary, this assignment asks you to fit a number of neural networks, comparing processing time and performance across experimental treatments. Processing time will be recorded for the fitting on the train.csv. Kaggle.com accuracy scores will be reported for all benchmarks.  "
   ]
  },
  {
   "cell_type": "markdown",
   "id": "2ad5aa62",
   "metadata": {},
   "source": [
    "### Libraries to be loaded"
   ]
  },
  {
   "cell_type": "code",
   "execution_count": 1,
   "id": "4fa7647a",
   "metadata": {},
   "outputs": [],
   "source": [
    "import matplotlib as mpl\n",
    "import matplotlib.pyplot as plt\n",
    "import numpy as np\n",
    "import os\n",
    "import pandas as pd\n",
    "import seaborn as sns\n",
    "import shutil\n",
    "import tensorflow as tf\n",
    "from datetime import datetime\n",
    "from matplotlib import pyplot\n",
    "from sklearn.cluster import KMeans\n",
    "from sklearn.cluster import MiniBatchKMeans\n",
    "from sklearn.decomposition import PCA\n",
    "from sklearn.ensemble import RandomForestClassifier\n",
    "from sklearn.metrics import accuracy_score\n",
    "from sklearn.metrics import classification_report\n",
    "from sklearn.model_selection import train_test_split\n",
    "\n",
    "from scipy.stats import reciprocal\n",
    "from sklearn.model_selection import RandomizedSearchCV"
   ]
  },
  {
   "cell_type": "markdown",
   "id": "08214e05",
   "metadata": {},
   "source": [
    "## Ingest"
   ]
  },
  {
   "cell_type": "code",
   "execution_count": 2,
   "id": "2dd11184",
   "metadata": {},
   "outputs": [
    {
     "data": {
      "text/plain": [
       "(42000, 785)"
      ]
     },
     "execution_count": 2,
     "metadata": {},
     "output_type": "execute_result"
    }
   ],
   "source": [
    "train_df = pd.read_csv(\"train.csv\")\n",
    "train_df.shape"
   ]
  },
  {
   "cell_type": "code",
   "execution_count": 3,
   "id": "0a34f755",
   "metadata": {},
   "outputs": [
    {
     "data": {
      "text/plain": [
       "(28000, 784)"
      ]
     },
     "execution_count": 3,
     "metadata": {},
     "output_type": "execute_result"
    }
   ],
   "source": [
    "test_df = pd.read_csv(\"test.csv\")\n",
    "test_df.shape"
   ]
  },
  {
   "cell_type": "markdown",
   "id": "d7e63e5c",
   "metadata": {},
   "source": [
    "## EDA"
   ]
  },
  {
   "cell_type": "code",
   "execution_count": 4,
   "id": "c816eb6f",
   "metadata": {},
   "outputs": [],
   "source": [
    "train_df_X = train_df.copy()\n",
    "train_df_y = train_df_X['label']\n",
    "train_df_X.drop(['label'], axis=1, inplace=True)\n"
   ]
  },
  {
   "cell_type": "markdown",
   "id": "e172f13a",
   "metadata": {},
   "source": [
    "## MODELLING"
   ]
  },
  {
   "cell_type": "markdown",
   "id": "01912e0e",
   "metadata": {},
   "source": [
    "Let's split train.csv 80/20 into training and validation datasets."
   ]
  },
  {
   "cell_type": "code",
   "execution_count": 5,
   "id": "a5494c8e",
   "metadata": {},
   "outputs": [],
   "source": [
    "X_train,X_val,y_train,y_val=train_test_split(train_df_X,train_df_y,test_size=0.2,random_state=42)"
   ]
  },
  {
   "cell_type": "markdown",
   "id": "730932d0",
   "metadata": {},
   "source": [
    "### NEURAL NETWORK"
   ]
  },
  {
   "cell_type": "code",
   "execution_count": 172,
   "id": "8fbc4165",
   "metadata": {},
   "outputs": [
    {
     "data": {
      "text/plain": [
       "'.\\\\my_mnist_logs\\\\run_001'"
      ]
     },
     "execution_count": 172,
     "metadata": {},
     "output_type": "execute_result"
    }
   ],
   "source": [
    "shutil.rmtree('my_mnist_logs')\n",
    "run_index = 1 # increment this at every run\n",
    "run_logdir = os.path.join(os.curdir, \"my_mnist_logs\", \"run_{:03d}\".format(run_index))\n",
    "run_logdir"
   ]
  },
  {
   "cell_type": "code",
   "execution_count": 173,
   "id": "96d1d979",
   "metadata": {},
   "outputs": [
    {
     "name": "stdout",
     "output_type": "stream",
     "text": [
      "Model: \"sequential\"\n",
      "_________________________________________________________________\n",
      "Layer (type)                 Output Shape              Param #   \n",
      "=================================================================\n",
      "flatten (Flatten)            (None, 784)               0         \n",
      "_________________________________________________________________\n",
      "dense (Dense)                (None, 128)               100480    \n",
      "_________________________________________________________________\n",
      "dense_1 (Dense)              (None, 128)               16512     \n",
      "_________________________________________________________________\n",
      "dense_2 (Dense)              (None, 128)               16512     \n",
      "_________________________________________________________________\n",
      "dense_3 (Dense)              (None, 128)               16512     \n",
      "_________________________________________________________________\n",
      "dense_4 (Dense)              (None, 128)               16512     \n",
      "_________________________________________________________________\n",
      "dense_5 (Dense)              (None, 10)                1290      \n",
      "=================================================================\n",
      "Total params: 167,818\n",
      "Trainable params: 167,818\n",
      "Non-trainable params: 0\n",
      "_________________________________________________________________\n"
     ]
    }
   ],
   "source": [
    "tf.keras.backend.clear_session()\n",
    "np.random.seed(42)\n",
    "tf.random.set_seed(42)\n",
    "\n",
    "new_model = tf.keras.models.Sequential([\n",
    "    tf.keras.layers.Flatten(input_shape=[28, 28]),\n",
    "    tf.keras.layers.Dense(128, activation=\"relu\"),\n",
    "    tf.keras.layers.Dense(128, activation=\"relu\"),\n",
    "    tf.keras.layers.Dense(128, activation=\"relu\"),\n",
    "    tf.keras.layers.Dense(128, activation=\"relu\"),\n",
    "    tf.keras.layers.Dense(128, activation=\"relu\"),\n",
    "    tf.keras.layers.Dense(10, activation=\"softmax\")\n",
    "])\n",
    "new_model.compile(loss=\"sparse_categorical_crossentropy\",\n",
    "              optimizer=tf.keras.optimizers.Adam(lr=0.001),\n",
    "              metrics=[\"sparse_categorical_accuracy\"]\n",
    "            )\n",
    "new_model.summary()"
   ]
  },
  {
   "cell_type": "code",
   "execution_count": 174,
   "id": "adaa7b2f",
   "metadata": {},
   "outputs": [
    {
     "name": "stdout",
     "output_type": "stream",
     "text": [
      "Epoch 1/100\n",
      "WARNING:tensorflow:Model was constructed with shape (None, 28, 28) for input Tensor(\"flatten_input:0\", shape=(None, 28, 28), dtype=float32), but it was called on an input with incompatible shape (32, 784).\n",
      "WARNING:tensorflow:Model was constructed with shape (None, 28, 28) for input Tensor(\"flatten_input:0\", shape=(None, 28, 28), dtype=float32), but it was called on an input with incompatible shape (32, 784).\n",
      "   2/1050 [..............................] - ETA: 48s - loss: 21.4718 - sparse_categorical_accuracy: 0.1094WARNING:tensorflow:Callbacks method `on_train_batch_end` is slow compared to the batch time (batch time: 0.0020s vs `on_train_batch_end` time: 0.0910s). Check your callbacks.\n",
      "1016/1050 [============================>.] - ETA: 0s - loss: 0.6348 - sparse_categorical_accuracy: 0.8561WARNING:tensorflow:Model was constructed with shape (None, 28, 28) for input Tensor(\"flatten_input:0\", shape=(None, 28, 28), dtype=float32), but it was called on an input with incompatible shape (None, 784).\n",
      "\n",
      "Epoch 00001: val_loss improved from inf to 0.30006, saving model to yo_model.h5\n",
      "1050/1050 [==============================] - 2s 2ms/step - loss: 0.6220 - sparse_categorical_accuracy: 0.8585 - val_loss: 0.3001 - val_sparse_categorical_accuracy: 0.9136\n",
      "Epoch 2/100\n",
      "1021/1050 [============================>.] - ETA: 0s - loss: 0.2268 - sparse_categorical_accuracy: 0.9343\n",
      "Epoch 00002: val_loss improved from 0.30006 to 0.21893, saving model to yo_model.h5\n",
      "1050/1050 [==============================] - 2s 1ms/step - loss: 0.2269 - sparse_categorical_accuracy: 0.9343 - val_loss: 0.2189 - val_sparse_categorical_accuracy: 0.9360\n",
      "Epoch 3/100\n",
      "1050/1050 [==============================] - ETA: 0s - loss: 0.1758 - sparse_categorical_accuracy: 0.9495\n",
      "Epoch 00003: val_loss improved from 0.21893 to 0.18711, saving model to yo_model.h5\n",
      "1050/1050 [==============================] - 2s 1ms/step - loss: 0.1758 - sparse_categorical_accuracy: 0.9495 - val_loss: 0.1871 - val_sparse_categorical_accuracy: 0.9423\n",
      "Epoch 4/100\n",
      "1043/1050 [============================>.] - ETA: 0s - loss: 0.1499 - sparse_categorical_accuracy: 0.9568\n",
      "Epoch 00004: val_loss improved from 0.18711 to 0.17911, saving model to yo_model.h5\n",
      "1050/1050 [==============================] - 2s 1ms/step - loss: 0.1497 - sparse_categorical_accuracy: 0.9569 - val_loss: 0.1791 - val_sparse_categorical_accuracy: 0.9530\n",
      "Epoch 5/100\n",
      "1031/1050 [============================>.] - ETA: 0s - loss: 0.1282 - sparse_categorical_accuracy: 0.9632\n",
      "Epoch 00005: val_loss improved from 0.17911 to 0.15988, saving model to yo_model.h5\n",
      "1050/1050 [==============================] - 2s 1ms/step - loss: 0.1279 - sparse_categorical_accuracy: 0.9632 - val_loss: 0.1599 - val_sparse_categorical_accuracy: 0.9567\n",
      "Epoch 6/100\n",
      "1026/1050 [============================>.] - ETA: 0s - loss: 0.1087 - sparse_categorical_accuracy: 0.9689\n",
      "Epoch 00006: val_loss did not improve from 0.15988\n",
      "1050/1050 [==============================] - 1s 1ms/step - loss: 0.1098 - sparse_categorical_accuracy: 0.9687 - val_loss: 0.1635 - val_sparse_categorical_accuracy: 0.9573\n",
      "Epoch 7/100\n",
      "1024/1050 [============================>.] - ETA: 0s - loss: 0.1024 - sparse_categorical_accuracy: 0.9716\n",
      "Epoch 00007: val_loss improved from 0.15988 to 0.14310, saving model to yo_model.h5\n",
      "1050/1050 [==============================] - 2s 1ms/step - loss: 0.1026 - sparse_categorical_accuracy: 0.9715 - val_loss: 0.1431 - val_sparse_categorical_accuracy: 0.9613\n",
      "Epoch 8/100\n",
      "1013/1050 [===========================>..] - ETA: 0s - loss: 0.0913 - sparse_categorical_accuracy: 0.9740\n",
      "Epoch 00008: val_loss did not improve from 0.14310\n",
      "1050/1050 [==============================] - 1s 1ms/step - loss: 0.0906 - sparse_categorical_accuracy: 0.9743 - val_loss: 0.1683 - val_sparse_categorical_accuracy: 0.9611\n",
      "Epoch 9/100\n",
      "1036/1050 [============================>.] - ETA: 0s - loss: 0.0854 - sparse_categorical_accuracy: 0.9765\n",
      "Epoch 00009: val_loss did not improve from 0.14310\n",
      "1050/1050 [==============================] - 1s 1ms/step - loss: 0.0853 - sparse_categorical_accuracy: 0.9765 - val_loss: 0.1996 - val_sparse_categorical_accuracy: 0.9552\n",
      "Epoch 10/100\n",
      "1019/1050 [============================>.] - ETA: 0s - loss: 0.0816 - sparse_categorical_accuracy: 0.9781\n",
      "Epoch 00010: val_loss improved from 0.14310 to 0.13382, saving model to yo_model.h5\n",
      "1050/1050 [==============================] - 1s 1ms/step - loss: 0.0815 - sparse_categorical_accuracy: 0.9780 - val_loss: 0.1338 - val_sparse_categorical_accuracy: 0.9663\n",
      "Epoch 11/100\n",
      "1035/1050 [============================>.] - ETA: 0s - loss: 0.0708 - sparse_categorical_accuracy: 0.9806\n",
      "Epoch 00011: val_loss did not improve from 0.13382\n",
      "1050/1050 [==============================] - 1s 1ms/step - loss: 0.0707 - sparse_categorical_accuracy: 0.9806 - val_loss: 0.1490 - val_sparse_categorical_accuracy: 0.9633\n",
      "Epoch 12/100\n",
      "1043/1050 [============================>.] - ETA: 0s - loss: 0.0631 - sparse_categorical_accuracy: 0.9827\n",
      "Epoch 00012: val_loss did not improve from 0.13382\n",
      "1050/1050 [==============================] - 1s 1ms/step - loss: 0.0637 - sparse_categorical_accuracy: 0.9826 - val_loss: 0.1682 - val_sparse_categorical_accuracy: 0.9654\n",
      "Epoch 13/100\n",
      "1038/1050 [============================>.] - ETA: 0s - loss: 0.0602 - sparse_categorical_accuracy: 0.9839\n",
      "Epoch 00013: val_loss did not improve from 0.13382\n",
      "1050/1050 [==============================] - 1s 1ms/step - loss: 0.0601 - sparse_categorical_accuracy: 0.9840 - val_loss: 0.2125 - val_sparse_categorical_accuracy: 0.9645\n",
      "Epoch 14/100\n",
      "1031/1050 [============================>.] - ETA: 0s - loss: 0.0722 - sparse_categorical_accuracy: 0.9810\n",
      "Epoch 00014: val_loss did not improve from 0.13382\n",
      "1050/1050 [==============================] - 2s 1ms/step - loss: 0.0716 - sparse_categorical_accuracy: 0.9811 - val_loss: 0.1698 - val_sparse_categorical_accuracy: 0.9629\n",
      "Epoch 15/100\n",
      "1040/1050 [============================>.] - ETA: 0s - loss: 0.0532 - sparse_categorical_accuracy: 0.9852\n",
      "Epoch 00015: val_loss did not improve from 0.13382\n",
      "1050/1050 [==============================] - 2s 1ms/step - loss: 0.0542 - sparse_categorical_accuracy: 0.9851 - val_loss: 0.1542 - val_sparse_categorical_accuracy: 0.9688\n",
      "Epoch 16/100\n",
      "1015/1050 [============================>.] - ETA: 0s - loss: 0.0597 - sparse_categorical_accuracy: 0.9840\n",
      "Epoch 00016: val_loss did not improve from 0.13382\n",
      "1050/1050 [==============================] - 2s 1ms/step - loss: 0.0595 - sparse_categorical_accuracy: 0.9840 - val_loss: 0.1733 - val_sparse_categorical_accuracy: 0.9657\n",
      "Epoch 17/100\n",
      "1047/1050 [============================>.] - ETA: 0s - loss: 0.0486 - sparse_categorical_accuracy: 0.9861\n",
      "Epoch 00017: val_loss did not improve from 0.13382\n",
      "1050/1050 [==============================] - 2s 1ms/step - loss: 0.0486 - sparse_categorical_accuracy: 0.9861 - val_loss: 0.1631 - val_sparse_categorical_accuracy: 0.9700\n",
      "Epoch 18/100\n",
      "1036/1050 [============================>.] - ETA: 0s - loss: 0.0478 - sparse_categorical_accuracy: 0.9876\n",
      "Epoch 00018: val_loss did not improve from 0.13382\n",
      "1050/1050 [==============================] - 1s 1ms/step - loss: 0.0475 - sparse_categorical_accuracy: 0.9877 - val_loss: 0.1869 - val_sparse_categorical_accuracy: 0.9706\n",
      "Epoch 19/100\n",
      "1036/1050 [============================>.] - ETA: 0s - loss: 0.0440 - sparse_categorical_accuracy: 0.9888\n",
      "Epoch 00019: val_loss did not improve from 0.13382\n",
      "1050/1050 [==============================] - 1s 1ms/step - loss: 0.0436 - sparse_categorical_accuracy: 0.9889 - val_loss: 0.1525 - val_sparse_categorical_accuracy: 0.9712\n",
      "Epoch 20/100\n",
      "1010/1050 [===========================>..] - ETA: 0s - loss: 0.0482 - sparse_categorical_accuracy: 0.9888\n",
      "Epoch 00020: val_loss did not improve from 0.13382\n",
      "1050/1050 [==============================] - 1s 1ms/step - loss: 0.0494 - sparse_categorical_accuracy: 0.9885 - val_loss: 0.2013 - val_sparse_categorical_accuracy: 0.9612\n",
      "Epoch 21/100\n",
      "1044/1050 [============================>.] - ETA: 0s - loss: 0.0426 - sparse_categorical_accuracy: 0.9892\n",
      "Epoch 00021: val_loss did not improve from 0.13382\n",
      "1050/1050 [==============================] - 2s 1ms/step - loss: 0.0428 - sparse_categorical_accuracy: 0.9892 - val_loss: 0.2418 - val_sparse_categorical_accuracy: 0.9665\n"
     ]
    },
    {
     "name": "stdout",
     "output_type": "stream",
     "text": [
      "Epoch 22/100\n",
      "1020/1050 [============================>.] - ETA: 0s - loss: 0.0549 - sparse_categorical_accuracy: 0.9870\n",
      "Epoch 00022: val_loss did not improve from 0.13382\n",
      "1050/1050 [==============================] - 2s 1ms/step - loss: 0.0547 - sparse_categorical_accuracy: 0.9870 - val_loss: 0.1830 - val_sparse_categorical_accuracy: 0.9694\n",
      "Epoch 23/100\n",
      "1028/1050 [============================>.] - ETA: 0s - loss: 0.0319 - sparse_categorical_accuracy: 0.9912\n",
      "Epoch 00023: val_loss did not improve from 0.13382\n",
      "1050/1050 [==============================] - 2s 2ms/step - loss: 0.0326 - sparse_categorical_accuracy: 0.9910 - val_loss: 0.2257 - val_sparse_categorical_accuracy: 0.9613\n",
      "Epoch 24/100\n",
      "1011/1050 [===========================>..] - ETA: 0s - loss: 0.0500 - sparse_categorical_accuracy: 0.9896\n",
      "Epoch 00024: val_loss did not improve from 0.13382\n",
      "1050/1050 [==============================] - 2s 1ms/step - loss: 0.0490 - sparse_categorical_accuracy: 0.9897 - val_loss: 0.1943 - val_sparse_categorical_accuracy: 0.9695\n",
      "Epoch 25/100\n",
      "1016/1050 [============================>.] - ETA: 0s - loss: 0.0356 - sparse_categorical_accuracy: 0.9914\n",
      "Epoch 00025: val_loss did not improve from 0.13382\n",
      "1050/1050 [==============================] - 1s 1ms/step - loss: 0.0360 - sparse_categorical_accuracy: 0.9914 - val_loss: 0.1924 - val_sparse_categorical_accuracy: 0.9717\n",
      "Epoch 26/100\n",
      "1026/1050 [============================>.] - ETA: 0s - loss: 0.0331 - sparse_categorical_accuracy: 0.9919\n",
      "Epoch 00026: val_loss did not improve from 0.13382\n",
      "1050/1050 [==============================] - 1s 1ms/step - loss: 0.0331 - sparse_categorical_accuracy: 0.9919 - val_loss: 0.2048 - val_sparse_categorical_accuracy: 0.9735\n",
      "Epoch 27/100\n",
      "1025/1050 [============================>.] - ETA: 0s - loss: 0.0447 - sparse_categorical_accuracy: 0.9911\n",
      "Epoch 00027: val_loss did not improve from 0.13382\n",
      "1050/1050 [==============================] - 1s 1ms/step - loss: 0.0446 - sparse_categorical_accuracy: 0.9910 - val_loss: 0.1970 - val_sparse_categorical_accuracy: 0.9690\n",
      "Epoch 28/100\n",
      "1033/1050 [============================>.] - ETA: 0s - loss: 0.0251 - sparse_categorical_accuracy: 0.9940\n",
      "Epoch 00028: val_loss did not improve from 0.13382\n",
      "1050/1050 [==============================] - 2s 1ms/step - loss: 0.0252 - sparse_categorical_accuracy: 0.9940 - val_loss: 0.1644 - val_sparse_categorical_accuracy: 0.9711\n",
      "Epoch 29/100\n",
      "1042/1050 [============================>.] - ETA: 0s - loss: 0.0333 - sparse_categorical_accuracy: 0.992 - ETA: 0s - loss: 0.0328 - sparse_categorical_accuracy: 0.9924\n",
      "Epoch 00029: val_loss did not improve from 0.13382\n",
      "1050/1050 [==============================] - 2s 2ms/step - loss: 0.0327 - sparse_categorical_accuracy: 0.9924 - val_loss: 0.2152 - val_sparse_categorical_accuracy: 0.9696\n",
      "Epoch 30/100\n",
      "1022/1050 [============================>.] - ETA: 0s - loss: 0.0331 - sparse_categorical_accuracy: 0.9925\n",
      "Epoch 00030: val_loss did not improve from 0.13382\n",
      "1050/1050 [==============================] - 1s 1ms/step - loss: 0.0324 - sparse_categorical_accuracy: 0.9927 - val_loss: 0.3221 - val_sparse_categorical_accuracy: 0.9712\n",
      "Epoch 00030: early stopping\n"
     ]
    }
   ],
   "source": [
    "early_stopping_cb = tf.keras.callbacks.EarlyStopping(\n",
    "                    verbose=1,patience=20)\n",
    "checkpoint_cb = tf.keras.callbacks.ModelCheckpoint(\"yo_model.h5\",verbose=1,save_best_only=True)\n",
    "tensorboard_cb = tf.keras.callbacks.TensorBoard(run_logdir)\n",
    "\n",
    "history = new_model.fit(X_train, y_train, epochs=100,\n",
    "                    validation_data=(X_val, y_val),\n",
    "                    callbacks=[checkpoint_cb, early_stopping_cb, tensorboard_cb])"
   ]
  },
  {
   "cell_type": "code",
   "execution_count": 175,
   "id": "f62c16ba",
   "metadata": {},
   "outputs": [
    {
     "data": {
      "image/png": "[encoded data removed]",
      "text/plain": [
       "<Figure size 432x288 with 1 Axes>"
      ]
     },
     "metadata": {
      "needs_background": "light"
     },
     "output_type": "display_data"
    }
   ],
   "source": [
    "pyplot.plot(history.history['loss'], label='train')\n",
    "pyplot.plot(history.history['val_loss'], label='test')\n",
    "pyplot.legend()\n",
    "pyplot.show()"
   ]
  },
  {
   "cell_type": "code",
   "execution_count": 176,
   "id": "a2df1d45",
   "metadata": {},
   "outputs": [
    {
     "name": "stdout",
     "output_type": "stream",
     "text": [
      "WARNING:tensorflow:Model was constructed with shape (None, 28, 28) for input Tensor(\"flatten_input_1:0\", shape=(None, 28, 28), dtype=float32), but it was called on an input with incompatible shape (None, 784).\n",
      "263/263 [==============================] - 0s 650us/step - loss: 0.1338 - sparse_categorical_accuracy: 0.9663\n"
     ]
    },
    {
     "data": {
      "text/plain": [
       "[0.1338234692811966, 0.9663095474243164]"
      ]
     },
     "execution_count": 176,
     "metadata": {},
     "output_type": "execute_result"
    }
   ],
   "source": [
    "best_model = tf.keras.models.load_model(\"yo_model.h5\") # rollback to best model\n",
    "best_model.evaluate(X_val, y_val)"
   ]
  },
  {
   "cell_type": "code",
   "execution_count": 177,
   "id": "2308a642",
   "metadata": {},
   "outputs": [
    {
     "name": "stdout",
     "output_type": "stream",
     "text": [
      "WARNING:tensorflow:Model was constructed with shape (None, 28, 28) for input Tensor(\"flatten_input_1:0\", shape=(None, 28, 28), dtype=float32), but it was called on an input with incompatible shape (32, 784).\n",
      "1050/1050 [==============================] - 1s 912us/step - loss: 0.0457 - sparse_categorical_accuracy: 0.9873\n"
     ]
    },
    {
     "data": {
      "text/plain": [
       "[0.045716192573308945, 0.9873214364051819]"
      ]
     },
     "execution_count": 177,
     "metadata": {},
     "output_type": "execute_result"
    }
   ],
   "source": [
    "best_model.evaluate(X_train, y_train)"
   ]
  },
  {
   "cell_type": "code",
   "execution_count": 178,
   "id": "ba6de8f3",
   "metadata": {},
   "outputs": [],
   "source": [
    "#%load_ext tensorboard\n",
    "%reload_ext tensorboard\n"
   ]
  },
  {
   "cell_type": "code",
   "execution_count": 179,
   "id": "0baec67a",
   "metadata": {},
   "outputs": [
    {
     "data": {
      "text/plain": [
       "Reusing TensorBoard on port 6006 (pid 9584), started 0:04:53 ago. (Use '!kill 9584' to kill it.)"
      ]
     },
     "metadata": {},
     "output_type": "display_data"
    },
    {
     "data": {
      "text/html": [
       "\n",
       "      <iframe id=\"tensorboard-frame-e1529f5ff72e6f52\" width=\"100%\" height=\"800\" frameborder=\"0\">\n",
       "      </iframe>\n",
       "      <script>\n",
       "        (function() {\n",
       "          const frame = document.getElementById(\"tensorboard-frame-e1529f5ff72e6f52\");\n",
       "          const url = new URL(\"/\", window.location);\n",
       "          const port = 6006;\n",
       "          if (port) {\n",
       "            url.port = port;\n",
       "          }\n",
       "          frame.src = url;\n",
       "        })();\n",
       "      </script>\n",
       "    "
      ],
      "text/plain": [
       "<IPython.core.display.HTML object>"
      ]
     },
     "metadata": {},
     "output_type": "display_data"
    }
   ],
   "source": [
    "%tensorboard --logdir=./my_mnist_logs --port=6006\n"
   ]
  },
  {
   "cell_type": "code",
   "execution_count": 180,
   "id": "d3be73d5",
   "metadata": {},
   "outputs": [
    {
     "name": "stdout",
     "output_type": "stream",
     "text": [
      "WARNING:tensorflow:Model was constructed with shape (None, 28, 28) for input Tensor(\"flatten_input_1:0\", shape=(None, 28, 28), dtype=float32), but it was called on an input with incompatible shape (32, 784).\n"
     ]
    }
   ],
   "source": [
    "y_test = best_model.predict(test_df)\n",
    "y = []\n",
    "for i in range (0, len(y_test)):\n",
    "    y.append(np.argmax(y_test[i]))"
   ]
  },
  {
   "cell_type": "code",
   "execution_count": 181,
   "id": "c343889f",
   "metadata": {},
   "outputs": [],
   "source": [
    "# create submission file\n",
    "submission = pd.DataFrame({\"ImageId\": (test_df.index + 1),\"Label\": y})\n",
    "submission.to_csv('submission.csv', index=False)"
   ]
  },
  {
   "cell_type": "code",
   "execution_count": null,
   "id": "10bff0be",
   "metadata": {},
   "outputs": [],
   "source": []
  }
 ],
 "metadata": {
  "kernelspec": {
   "display_name": "Python 3 (ipykernel)",
   "language": "python",
   "name": "python3"
  },
  "language_info": {
   "codemirror_mode": {
    "name": "ipython",
    "version": 3
   },
   "file_extension": ".py",
   "mimetype": "text/x-python",
   "name": "python",
   "nbconvert_exporter": "python",
   "pygments_lexer": "ipython3",
   "version": "3.7.11"
  }
 },
 "nbformat": 4,
 "nbformat_minor": 5
}
