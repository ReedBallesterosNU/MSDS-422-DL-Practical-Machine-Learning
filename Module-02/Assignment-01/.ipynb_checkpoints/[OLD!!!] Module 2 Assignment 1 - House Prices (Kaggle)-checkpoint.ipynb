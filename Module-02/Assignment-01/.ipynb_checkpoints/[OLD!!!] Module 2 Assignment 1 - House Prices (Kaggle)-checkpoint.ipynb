{
 "cells": [
  {
   "cell_type": "markdown",
   "id": "2dc127f7",
   "metadata": {},
   "source": [
    "# Module 2 Assignment 1: House Prices (Kaggle)"
   ]
  },
  {
   "cell_type": "markdown",
   "id": "18a08a98",
   "metadata": {},
   "source": [
    "**Reed Ballesteros**\n",
    "\n",
    "**MSDS-422**\n",
    "\n",
    "**4/3/2022**\n",
    "\n",
    "**Instructor: Prof. Noah Gift**"
   ]
  },
  {
   "cell_type": "markdown",
   "id": "ed4ea137",
   "metadata": {},
   "source": [
    "### Background\n",
    "Compete in the House Prices:  Advanced Regression Techniques (Links to an external site.) competition, where you will predict house prices in Ames, Iowa (‘SalePrice’).  You will be required to submit predictions to Kaggle.com and provide evidence of those submissions. As part of the analysis, you must address the following at a minimum. \n",
    "\n",
    "### Management/Research Question\n",
    "In layman’s terms, what is the management/research question of interest, and why would anyone care?  \n",
    "\n",
    "### Requirements\n",
    "- Conduct your analysis using a cross-validation design.\n",
    "- Conduct EDA and provide appropriate visualizations in the process.\n",
    "- Build a minimum of two separate regression models using the training set.\n",
    "- Evaluate polynomial, indicator, dichotomous, & piecewise model components.\n",
    "- Create at least one feature from the data set.\n",
    "- Evaluate the models’ assumptions.\n",
    "- Evaluate goodness of fit metrics on the training and validation sets.\n",
    "- Submit predictions for the unseen test set available on Kaggle.com.\n",
    "- Provide your Kaggle user name and a screen snapshot of your Kaggle scores.\n",
    "- Discuss what your models tell you in layman’s terms."
   ]
  },
  {
   "cell_type": "markdown",
   "id": "4e8ae3a9",
   "metadata": {},
   "source": [
    "#### Libraries to be loaded:"
   ]
  },
  {
   "cell_type": "code",
   "execution_count": 1,
   "id": "1f072266",
   "metadata": {},
   "outputs": [],
   "source": [
    "import numpy as np\n",
    "import pandas as pd\n",
    "import matplotlib.pyplot as plt\n",
    "from sklearn.preprocessing import StandardScaler\n",
    "from sklearn.preprocessing import MinMaxScaler\n",
    "import scipy.stats as st\n",
    "import seaborn as sns"
   ]
  },
  {
   "cell_type": "markdown",
   "id": "3b02d84f",
   "metadata": {},
   "source": [
    "## INGEST"
   ]
  },
  {
   "cell_type": "code",
   "execution_count": 4,
   "id": "ae9d3035",
   "metadata": {},
   "outputs": [],
   "source": [
    "train_df = pd.read_csv(\"train.csv\")\n",
    "test_df = pd.read_csv(\"test.csv\")"
   ]
  },
  {
   "cell_type": "markdown",
   "id": "8fd67d88",
   "metadata": {},
   "source": [
    "## EDA"
   ]
  },
  {
   "cell_type": "code",
   "execution_count": null,
   "id": "4a7f0d85",
   "metadata": {},
   "outputs": [],
   "source": []
  },
  {
   "cell_type": "markdown",
   "id": "77ced95f",
   "metadata": {},
   "source": [
    "## MODELING"
   ]
  },
  {
   "cell_type": "code",
   "execution_count": null,
   "id": "80aa8281",
   "metadata": {},
   "outputs": [],
   "source": []
  },
  {
   "cell_type": "markdown",
   "id": "32d37eb4",
   "metadata": {},
   "source": [
    "## CONCLUSION"
   ]
  },
  {
   "cell_type": "code",
   "execution_count": null,
   "id": "207c2d09",
   "metadata": {},
   "outputs": [],
   "source": []
  }
 ],
 "metadata": {
  "kernelspec": {
   "display_name": "Python 3 (ipykernel)",
   "language": "python",
   "name": "python3"
  },
  "language_info": {
   "codemirror_mode": {
    "name": "ipython",
    "version": 3
   },
   "file_extension": ".py",
   "mimetype": "text/x-python",
   "name": "python",
   "nbconvert_exporter": "python",
   "pygments_lexer": "ipython3",
   "version": "3.7.11"
  }
 },
 "nbformat": 4,
 "nbformat_minor": 5
}
